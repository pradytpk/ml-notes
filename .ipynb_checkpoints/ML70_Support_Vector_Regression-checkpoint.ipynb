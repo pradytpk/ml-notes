{
 "cells": [
  {
   "cell_type": "markdown",
   "metadata": {
    "id": "Axw2b2T_qIqr"
   },
   "source": [
    "## Support Vector Regressor Implementation"
   ]
  },
  {
   "cell_type": "code",
   "execution_count": 1,
   "metadata": {
    "executionInfo": {
     "elapsed": 5,
     "status": "ok",
     "timestamp": 1693385869774,
     "user": {
      "displayName": "Vipil Khapre",
      "userId": "11657927420291305997"
     },
     "user_tz": -330
    },
    "id": "OtNC7x5AqIqt",
    "tags": []
   },
   "outputs": [],
   "source": [
    "import pandas as pd\n",
    "import numpy as np\n",
    "import seaborn as sns\n",
    "import matplotlib.pyplot as plt\n",
    "import seaborn as sns"
   ]
  },
  {
   "cell_type": "code",
   "execution_count": 2,
   "metadata": {
    "executionInfo": {
     "elapsed": 1841,
     "status": "ok",
     "timestamp": 1693385873397,
     "user": {
      "displayName": "Vipil Khapre",
      "userId": "11657927420291305997"
     },
     "user_tz": -330
    },
    "id": "OHmYNrngqIqw",
    "tags": []
   },
   "outputs": [],
   "source": [
    "## Lets create synthetic data points\n",
    "from sklearn.datasets import make_regression"
   ]
  },
  {
   "cell_type": "code",
   "execution_count": 4,
   "metadata": {
    "executionInfo": {
     "elapsed": 11,
     "status": "ok",
     "timestamp": 1693385873398,
     "user": {
      "displayName": "Vipil Khapre",
      "userId": "11657927420291305997"
     },
     "user_tz": -330
    },
    "id": "zl7NMDd8qIqx",
    "tags": []
   },
   "outputs": [],
   "source": [
    "X,y=make_regression(n_samples=1000,n_features=2,n_targets=1,noise=3.0)"
   ]
  },
  {
   "cell_type": "code",
   "execution_count": 5,
   "metadata": {
    "colab": {
     "base_uri": "https://localhost:8080/"
    },
    "executionInfo": {
     "elapsed": 8,
     "status": "ok",
     "timestamp": 1693385878650,
     "user": {
      "displayName": "Vipil Khapre",
      "userId": "11657927420291305997"
     },
     "user_tz": -330
    },
    "id": "_76mOhJZqIqx",
    "outputId": "7a9be647-fb83-4cdc-b611-330be4db0b85",
    "tags": []
   },
   "outputs": [
    {
     "data": {
      "text/plain": [
       "array([[-0.77055322, -0.39574976],\n",
       "       [-0.53366535,  0.4516016 ],\n",
       "       [-2.18776324,  0.445163  ],\n",
       "       ...,\n",
       "       [ 0.3309516 ,  0.06480931],\n",
       "       [ 1.52705011, -0.80531036],\n",
       "       [-2.34104199,  0.07018283]])"
      ]
     },
     "execution_count": 5,
     "metadata": {},
     "output_type": "execute_result"
    }
   ],
   "source": [
    "X"
   ]
  },
  {
   "cell_type": "code",
   "execution_count": 6,
   "metadata": {
    "colab": {
     "base_uri": "https://localhost:8080/"
    },
    "executionInfo": {
     "elapsed": 9,
     "status": "ok",
     "timestamp": 1693385881569,
     "user": {
      "displayName": "Vipil Khapre",
      "userId": "11657927420291305997"
     },
     "user_tz": -330
    },
    "id": "JhvzUeMFqIqz",
    "outputId": "eb84e249-aede-46a0-d9de-411749004e2b",
    "tags": []
   },
   "outputs": [
    {
     "data": {
      "text/plain": [
       "array([-4.05643367e+01, -6.24466610e+00, -5.91246336e+01,  9.40445416e-01,\n",
       "       -8.51581343e-01,  5.74052470e+01, -1.24527958e+01,  1.91959524e+01,\n",
       "        3.96801262e+01,  9.85395852e+01, -4.71225812e+00, -6.78773597e+01,\n",
       "       -1.98557651e+01,  1.00551879e+02,  7.87228064e+01, -6.57852718e+01,\n",
       "        6.43676012e+01,  2.26807736e+01,  6.96291804e+01,  7.85741028e+01,\n",
       "       -2.13653385e+01,  4.57847880e+01,  9.74109678e+00,  1.25162252e+02,\n",
       "       -2.84856814e+01,  5.98385500e+01, -1.22376520e+02, -4.74555155e+01,\n",
       "        2.94265690e+01, -2.50509683e+01,  1.25518249e+01,  4.47353511e+01,\n",
       "        1.14723769e+01,  2.83787931e+01, -3.81099257e+01, -8.87174485e+01,\n",
       "       -1.03529753e+02,  4.02215680e+01,  3.89122726e+01,  2.79642343e+01,\n",
       "        2.14286456e+01,  3.65226472e+00, -2.68042009e+01,  9.60662161e+01,\n",
       "       -1.11933954e+01, -3.60828924e+01,  3.90687212e+00,  7.28616623e+01,\n",
       "       -2.01113840e+01, -5.77326195e+01,  1.16751372e+01, -2.37688894e+01,\n",
       "        4.13409824e+01,  2.99870865e+01, -6.50828132e+01,  1.52262551e+01,\n",
       "       -6.53407914e+01,  4.82816159e+01,  3.04791732e+01,  4.54378792e+01,\n",
       "        2.69031234e+01, -5.04238961e+01, -1.61093980e+00, -2.68924859e+01,\n",
       "        2.89343314e+01,  4.36732075e+01,  1.18424072e+01, -1.78285676e+01,\n",
       "        9.10062446e+00, -3.28975344e+01, -4.60649764e+01, -4.59415605e+01,\n",
       "        3.55938227e+01, -2.06178235e+01, -4.78397678e+01,  2.28580387e+01,\n",
       "        3.49509482e+01,  4.95766100e+00,  1.75285747e+01,  7.17233397e+01,\n",
       "       -3.11458096e+01, -4.73946193e+01, -6.07408194e+01, -6.96280160e+01,\n",
       "       -5.25489855e+01,  2.19848540e+01,  7.69895020e+00, -4.45549504e+01,\n",
       "        1.31675211e+01,  1.68418128e+01, -9.57774773e+01,  3.23562582e+01,\n",
       "        7.95483369e+01, -4.04802081e+01,  5.33199101e+01, -4.37028675e+01,\n",
       "        4.79625735e+00, -1.43289829e+01, -8.23549217e+01,  1.65053738e+01,\n",
       "        1.00884537e+02,  2.07079784e+01,  2.82143256e+01,  4.34631235e+01,\n",
       "        7.65503525e+01, -3.98006446e+01,  3.67625883e+01, -7.30694403e+00,\n",
       "       -4.81563887e+01,  2.80311340e+01, -1.97510030e+01, -1.17152749e+02,\n",
       "        9.82222849e+01,  1.11403443e+01, -7.33756848e+00, -5.62497812e+01,\n",
       "        5.09165840e+01, -1.34104405e+01, -1.57312481e+01, -5.84601764e+01,\n",
       "        6.48660691e+01,  4.47857675e+01,  2.15259283e+01,  5.61285640e-01,\n",
       "       -1.34523190e+01,  9.16157913e+01, -1.13883660e+00,  5.27001457e+00,\n",
       "       -3.42852808e+01, -1.37129236e+01, -6.73613748e+00, -2.17175359e+01,\n",
       "       -5.99575307e+01,  9.44262984e+01,  1.12075761e+02, -3.77018495e+00,\n",
       "       -2.01595823e-02, -8.31094961e+01,  6.55501849e+01,  4.64517034e+01,\n",
       "       -5.43341071e+01, -6.94363121e+01,  5.83637302e+01, -1.01029216e+02,\n",
       "        6.01399248e+01,  4.44502493e+00,  4.56530890e+01, -7.32463794e+01,\n",
       "       -1.27530784e+02,  4.47042951e+01, -4.76434061e+01,  7.19935691e+00,\n",
       "       -5.80770327e+01, -5.01283705e+01,  8.38162910e+00,  5.33350398e+00,\n",
       "       -4.67413029e+01,  2.30429456e+00, -5.77794160e+01,  3.66352513e+01,\n",
       "        6.46155431e+01,  1.87976605e+01, -4.90045688e+01, -1.49515798e+01,\n",
       "        3.59582347e+01, -1.40883937e+01,  8.68473085e+01, -3.17948487e+01,\n",
       "       -7.78824324e+00, -1.17278713e+01,  4.64474441e+01,  2.05293986e+01,\n",
       "       -6.37662176e+01, -3.10692828e+00,  3.73542684e+01, -4.74207903e+01,\n",
       "       -7.66599214e+01, -1.21656751e+02, -1.21791697e+01,  8.88028040e+01,\n",
       "        7.15095184e+01, -5.17644312e+01, -1.13236960e+01, -5.48502751e+01,\n",
       "        4.25469005e+01, -2.40632303e+01,  2.77892316e+01,  3.20843714e-01,\n",
       "        6.13027191e+00,  7.17241730e+01, -8.01091567e+01, -7.58351023e+01,\n",
       "       -9.33473663e+00, -2.85696235e+01, -6.09622624e+01,  5.31936523e+01,\n",
       "       -1.87624946e+01,  5.99627351e+00,  2.70628707e+01,  7.62921721e+01,\n",
       "        1.41871678e+01,  1.77153618e+01,  2.68116783e+01,  1.69524008e+00,\n",
       "       -5.50774013e+01,  8.70309279e+01,  9.84995072e+00,  4.41368152e+01,\n",
       "        9.16833370e+01, -1.57307853e+01, -5.95660188e+01, -1.28412830e+02,\n",
       "       -5.68372198e-01,  5.41299854e+01,  2.25987283e+01,  8.66358686e+00,\n",
       "        4.19747936e+01, -8.96482914e+01,  3.55048814e+01, -5.59009092e+01,\n",
       "       -7.57252109e+01,  5.64432812e+01,  9.51128266e+01, -4.43118555e+01,\n",
       "       -5.48207824e+01,  7.38395913e+01, -1.52312277e+01,  1.01843617e+00,\n",
       "       -3.13176747e+00, -1.01037766e+01, -7.25469792e+01,  1.67605564e+01,\n",
       "        5.75214729e+01,  1.40643732e+01, -5.35210440e+01,  1.66049527e+01,\n",
       "        2.51136593e+01,  4.96810969e+01, -2.67561609e+01, -1.98849615e+00,\n",
       "        1.26265379e+01,  2.74233556e+01,  3.84807305e+01,  6.39797358e+01,\n",
       "        2.46417363e+01,  3.90828776e+01,  3.32799136e+01,  5.91096915e+01,\n",
       "       -5.26900071e+01,  2.75283630e+01,  7.40801558e+01, -8.94154464e+01,\n",
       "        2.48961793e+01,  2.48256028e+00, -4.69850097e+01,  3.54835582e+01,\n",
       "       -9.42292507e+01, -3.59254072e+01, -5.32298448e+01,  3.24063398e+01,\n",
       "        5.12697403e+01,  7.84481753e+00,  2.52889759e+01, -3.69613379e+01,\n",
       "        1.64811688e+01, -2.66704839e+01,  2.87270366e+01,  9.62598366e+00,\n",
       "       -1.27738411e+02,  1.86932825e+01,  4.43585951e+01, -4.02849121e+01,\n",
       "       -5.58591709e+01, -7.45677671e+00, -4.90685602e+01,  9.70579615e+01,\n",
       "        2.45995962e+01,  3.57840344e+01, -6.02691432e+01,  1.26594869e+01,\n",
       "        4.06472904e+01, -6.10850884e+01, -1.87609140e+01, -2.78809308e+01,\n",
       "        3.24117721e+01,  1.21548285e+02,  6.62109622e+00, -7.59580600e+01,\n",
       "        3.22443501e+01,  2.44167991e+01, -2.68145320e+00, -5.92263459e+01,\n",
       "        4.19608486e+00, -3.64302668e+01, -1.98956792e+01, -7.98569436e+00,\n",
       "        3.34197498e+00, -1.03975908e+01, -4.49139489e+01,  4.23642849e+00,\n",
       "       -3.63716459e+01, -7.20263348e+01, -4.62722125e+01,  9.15893723e+00,\n",
       "        6.45405822e+01, -1.56420951e+01, -7.22918555e+00, -6.52908855e+01,\n",
       "        5.13012763e+01, -5.85265640e+00,  4.32860896e+01, -3.52209091e+01,\n",
       "       -1.38322118e+01, -1.59743607e+01,  6.06531142e+00,  2.12154126e+01,\n",
       "        1.20957876e+02,  1.15922539e+01, -4.22223840e+00, -8.19155294e+01,\n",
       "       -5.21636138e+01, -7.68490986e+01,  5.66288633e+01, -8.28050735e+01,\n",
       "        8.11669211e+01, -2.61757280e+01, -6.44791219e+01, -3.48943321e+01,\n",
       "        8.64502868e+01,  8.45386048e+00,  2.91088127e+01, -2.39951516e+01,\n",
       "       -4.94876386e+01,  4.24065224e+01,  4.66137088e+01, -5.17489981e+01,\n",
       "        1.35013462e+01,  2.18047882e+01, -9.29871563e+00,  5.34491090e+01,\n",
       "        7.12453814e-01, -1.11013992e+01, -1.25161586e+02, -1.23174650e+01,\n",
       "        8.34627062e+00,  4.08887666e+01, -6.32443911e+01,  5.14870693e+01,\n",
       "       -2.23545512e+01,  3.24800876e+01,  2.50977073e+01,  1.42542778e+02,\n",
       "       -7.45431949e+01,  1.20334676e+01,  3.04828554e+01,  3.66002594e+01,\n",
       "        8.00311861e+01,  4.70136786e+01,  1.42307721e+01,  4.33579277e+01,\n",
       "       -3.02783356e+01,  1.75603424e+01, -4.35704680e+01,  5.03582472e+01,\n",
       "       -2.30932664e+01, -1.85393950e+01, -2.00027217e+01,  3.22522862e+01,\n",
       "        1.16532991e+01, -6.47456278e+01, -2.50006752e+01, -6.87620620e+00,\n",
       "       -9.32823248e+00,  5.36057534e+01,  5.27563180e+01, -8.99308914e+01,\n",
       "       -3.62440449e+00,  5.43978020e+01, -6.44425395e+01, -6.87235537e+01,\n",
       "        3.85319792e+00, -9.68411635e+01,  1.90344311e+01, -1.78317400e+01,\n",
       "       -7.43865881e+00,  1.13438564e+01,  2.36654166e+01, -1.74333574e+00,\n",
       "       -4.47635475e+00, -1.06295768e+02,  1.07740936e+01, -3.60651744e+01,\n",
       "       -9.95827254e+01,  1.56574398e+01,  4.50263190e+01, -2.01308812e+01,\n",
       "        4.23954014e+01, -8.54174585e+01, -6.57830496e+01,  7.45381030e+01,\n",
       "        6.15273949e+01,  4.39215616e+01, -9.23774570e+01, -3.11474974e+01,\n",
       "       -4.33921849e+01, -1.69173823e+01, -2.62755153e+00,  1.68884151e+01,\n",
       "       -1.24453927e+02,  8.98196708e+01, -3.61450563e+01, -1.25691741e+01,\n",
       "        1.71066062e+00, -1.88388536e+01, -4.91753954e+00, -4.18596829e+01,\n",
       "       -8.90597504e+00,  5.77400018e+01, -6.08650817e+01, -7.90052494e+01,\n",
       "       -1.11278003e+02, -1.33769686e+01,  9.41029747e+00,  1.06202299e+01,\n",
       "       -8.43719687e+01, -3.70432346e+01,  8.13691786e+00, -8.13506381e+01,\n",
       "        9.95431782e+00, -1.58781566e+02, -4.95818581e+00,  1.32724915e+01,\n",
       "       -8.62755918e+01,  8.93350851e+01,  4.03543581e-01,  2.50012593e+01,\n",
       "        2.41747809e+01,  4.31023367e+01, -3.11952585e+01, -7.23732997e+00,\n",
       "        7.94335368e+01,  9.66319029e+00, -3.31910836e+01,  2.90124075e+01,\n",
       "       -8.02607457e+01,  8.36264756e+01,  1.56796145e+00, -1.55980994e+01,\n",
       "       -5.41055884e+01, -7.52552585e+00, -4.75590150e+01,  7.68141551e+01,\n",
       "       -4.54165999e+00, -1.15414013e+01, -7.68927676e+01,  2.27925359e+01,\n",
       "        4.33412222e+01, -7.99872971e+01, -5.67439838e+01,  5.72743323e+01,\n",
       "       -1.10774976e+02,  6.38805657e-02, -3.26931666e+01, -6.54482230e+01,\n",
       "       -7.27995063e+00,  7.66381887e+01, -6.68711883e+01, -6.28852324e+01,\n",
       "       -5.84342508e+01, -5.00639323e+01, -6.55079736e+01, -6.16728098e+00,\n",
       "       -5.42452604e+01, -4.61769189e+01, -9.18881209e+00,  9.42420864e+01,\n",
       "       -8.73992103e+01,  2.93075444e+01,  4.26972197e+01,  7.00704662e+01,\n",
       "        4.90674133e+01, -3.05999551e+01, -3.76038500e+01, -8.16506265e+00,\n",
       "        2.22489482e+01, -1.23419812e+01, -8.32299586e+00, -4.19104732e+00,\n",
       "        9.41660259e+00, -1.92254114e+01, -7.03586800e+01,  4.06809003e+01,\n",
       "        6.38928853e+01,  8.88945052e+01,  3.40402317e+01, -3.46030045e+01,\n",
       "        9.01496554e+00, -5.44045753e+01, -2.39132065e+01,  4.28561847e+01,\n",
       "        1.27666746e+01,  1.44521555e+01, -2.80544939e+01, -1.22165211e+01,\n",
       "       -4.22145371e+01, -1.72415575e+01,  3.73048619e+01,  4.26591192e+01,\n",
       "       -6.84114941e+01, -1.65234808e+01,  3.39863623e+01, -4.12099375e+01,\n",
       "        5.71814604e+00,  2.15823689e+01, -3.75036970e+01, -2.07394617e+01,\n",
       "        7.48493603e+01, -1.92369895e+00, -1.45420389e+01, -2.69449430e+01,\n",
       "        9.50591472e+01,  5.70766719e+01, -6.05530294e+01, -8.85643802e+00,\n",
       "       -7.78578113e+00, -1.95790523e+01,  8.16434536e+00,  7.41353137e+00,\n",
       "       -4.05463990e+01, -7.52431010e+01, -5.56436512e+01,  4.02061704e+01,\n",
       "        1.31902182e+01,  9.90108325e+01, -6.22365599e+01, -4.09685438e+01,\n",
       "       -1.23588973e+02, -6.85940590e+01, -1.84721430e+01, -4.05745895e+01,\n",
       "       -3.19420740e+01,  6.42438331e+01, -2.84188218e+01,  5.22202562e+00,\n",
       "       -3.98758261e+01,  1.44966600e+01,  1.77149058e+02,  1.06376035e+02,\n",
       "        1.64698357e+01, -2.32912373e+01,  4.85894441e+01, -3.82706569e+01,\n",
       "        1.26887801e+02,  4.69192976e+01, -2.93839027e+01, -2.75525380e+01,\n",
       "       -2.29010063e+01, -1.42371906e+02,  2.34264120e+01, -1.08607350e+01,\n",
       "        1.23895118e+02, -3.01003952e+01,  1.07726459e+02, -1.73112488e+01,\n",
       "        7.54795014e+01, -1.06533471e+02, -8.83732114e+01,  1.31058542e+01,\n",
       "       -3.48324374e+01, -1.10863724e+02, -5.18757226e+01, -5.52542792e+01,\n",
       "        4.52980536e+01, -1.17193538e+02, -1.33142074e+01, -1.88846117e+01,\n",
       "        1.78001638e+01, -4.30877179e+01, -1.59562609e+00, -4.47065901e+01,\n",
       "        2.01631858e+01, -3.94977387e+01,  1.26611978e+02, -1.44900875e+01,\n",
       "       -5.31963220e+01, -9.59123258e+01, -3.33692497e+01, -1.99666339e+01,\n",
       "        7.24811770e+01,  1.20855574e+01, -3.10573412e+01,  2.30718674e+01,\n",
       "        4.51000703e-01, -5.01020277e+01, -1.10393715e+02,  6.09192645e+01,\n",
       "        2.57759120e+01,  5.54173619e+01, -7.64441779e+01, -4.13251747e+00,\n",
       "       -7.82091102e+00,  3.83905221e+01,  1.91674316e+01,  5.15285336e-01,\n",
       "       -2.99550138e+01,  5.36654201e+01,  5.47374523e+00, -4.77873373e+01,\n",
       "       -4.90024723e+01,  7.09977275e+01,  5.85439117e+01,  2.23487717e+01,\n",
       "        2.37826142e+01, -4.30709221e+00,  9.61859632e+00, -8.44586035e+00,\n",
       "        5.02583591e+01,  7.67615090e+01, -2.37428597e+00,  5.71013574e+01,\n",
       "       -1.45396607e+02, -6.80658752e-01, -6.76752424e+00, -3.79977703e+01,\n",
       "        3.23371267e+01,  1.82349699e+01, -4.96958345e+01,  1.57760771e+01,\n",
       "       -1.33284725e+02,  3.44885055e+01,  5.88589173e+00,  9.17313162e+01,\n",
       "       -6.69234413e+01,  2.80741342e+01,  5.51609981e+01,  3.36190744e+01,\n",
       "       -4.11880238e+01,  8.74897811e+01,  8.39338489e+01, -7.09334478e+01,\n",
       "       -3.97432469e+01, -4.67037552e+00,  1.96145118e+01,  1.03709650e+01,\n",
       "        3.98111830e+01, -3.04252637e+01,  4.62882820e+01,  1.78897175e+01,\n",
       "        3.29884270e+01, -3.07952294e+01,  7.70273514e+01, -4.59063202e+01,\n",
       "       -4.14595799e+01,  1.08666716e+02,  2.92912697e+00, -2.84292766e+01,\n",
       "       -6.79487666e+01,  1.48481890e+01, -4.83053895e+01, -1.24927361e+01,\n",
       "       -3.80775487e+01, -1.88530151e+01, -4.04426474e+01, -2.49720279e+00,\n",
       "        4.61466417e+00, -2.59616175e+01,  6.15369303e+01,  3.52740286e+01,\n",
       "        6.13795877e+01, -9.21278926e-01,  2.59199915e+01,  3.54571123e+01,\n",
       "        1.18594210e+02, -4.51021577e+01,  9.66042838e+01,  2.21294890e+01,\n",
       "        5.79462242e+01, -1.07757291e+02,  4.74472526e+01, -1.48050182e+01,\n",
       "        5.44795675e+01,  9.50959153e+01, -8.27251669e+00,  5.29973946e+01,\n",
       "        6.20277151e+01,  5.35358230e+01, -3.57007450e+01, -1.89325612e+00,\n",
       "       -4.83996583e+00, -4.14350725e+01,  4.66588322e+01,  1.48127722e+00,\n",
       "       -3.43892699e+01, -9.99024702e+00, -8.65725440e+01, -3.05243678e+00,\n",
       "       -9.75163607e+01, -5.93186400e+01, -8.68955048e+01,  4.40753705e+01,\n",
       "       -4.22471938e+01, -7.69627855e+00,  7.04133051e+01,  2.11391173e+01,\n",
       "       -4.18974230e+01,  3.80452029e-01, -8.81875141e+01,  8.74519358e+00,\n",
       "       -4.84748973e+01,  2.62481807e+01,  2.39107619e+00,  1.84571084e+01,\n",
       "       -2.59468179e+01, -6.55777720e+01,  1.85658155e+01,  5.79392424e+01,\n",
       "       -7.39302927e+01, -6.57198798e+01,  2.88716118e+01, -2.43505868e+01,\n",
       "        3.62106575e+00,  1.18662885e+02,  3.71089670e+01, -4.65788738e+01,\n",
       "       -1.83145702e+01, -5.92460596e+01,  1.44294309e+02,  1.02449510e+02,\n",
       "       -3.18979543e+01, -5.87535766e+01, -2.28727034e+01,  5.84651933e+01,\n",
       "        8.46615145e+01, -7.26776254e+01,  3.25793716e+01, -2.33058288e+01,\n",
       "       -2.31463612e+01,  2.93353096e+01, -2.59890034e+01,  3.80459134e+00,\n",
       "        5.83546990e+01, -4.75038113e+01, -7.61596697e+01,  3.97600474e+01,\n",
       "       -7.27232991e+01,  2.59382818e+01,  3.45899030e-01, -5.25642976e+00,\n",
       "       -2.54386998e+01,  6.07292236e+00,  1.68959285e+01,  1.69467804e+01,\n",
       "       -3.15784716e+01, -2.35841226e+01, -3.12189497e+01, -5.12730307e+01,\n",
       "        1.23436078e+01,  4.34290139e+01, -1.97471382e+01, -1.15308399e+01,\n",
       "        1.12419968e+02,  7.76120644e+01,  1.29002180e+01, -7.75042362e+01,\n",
       "        3.52238668e+01,  3.26815028e+00, -9.66558630e+01, -4.29436798e+01,\n",
       "       -4.85360793e+01,  8.55611407e+00,  1.85434704e+01, -6.72114627e+00,\n",
       "        3.16151166e+01,  2.03498719e+01, -3.10055606e+00,  4.15047502e+01,\n",
       "       -6.35935042e+01,  4.44491719e+01,  3.24096857e+01, -1.73337553e+01,\n",
       "       -6.69578802e+01, -3.50694733e+01, -6.57741503e+01,  1.37556821e+00,\n",
       "        6.18436321e+01,  2.79881745e+00, -1.99362850e+01,  1.73877692e+01,\n",
       "       -2.85085507e+01,  8.97999138e+00,  1.09359921e+00,  8.57631906e+01,\n",
       "       -1.10903638e+02, -4.90900972e+01, -8.06590828e+01,  5.22865593e+00,\n",
       "        1.66591847e+01, -3.50666825e+01, -6.43682911e+01,  5.43346993e+01,\n",
       "        3.00986685e+00, -8.83966152e+01,  6.75308699e+01, -3.39758369e+01,\n",
       "       -1.66560265e+01,  2.70238499e+01, -1.21718066e+02, -4.25896825e+01,\n",
       "       -6.53014538e+01,  4.94827050e+00,  4.99594515e+01, -7.45526894e+01,\n",
       "        9.28190559e-01, -1.35068290e+01, -6.02826737e+00,  1.23703324e+02,\n",
       "       -8.56486981e+00, -7.73768536e+01, -5.39442649e+01,  3.29664848e+01,\n",
       "        6.24544506e+01, -1.61422466e+01, -3.91945643e+01,  3.50218753e+00,\n",
       "       -4.62379953e+01,  1.08824833e+00,  4.05513566e+01, -4.73670687e+01,\n",
       "        3.95837728e+01, -1.39295072e+00,  6.17570392e+01,  3.30535825e+01,\n",
       "       -6.54753581e+01, -4.04210391e+01,  1.05606990e+01, -3.25424798e+01,\n",
       "       -4.45507513e+00, -2.23200389e+01,  2.54241563e+01,  7.54044344e+01,\n",
       "       -1.11057449e+02, -1.35269192e+01, -3.17468451e+01,  7.60655766e+01,\n",
       "        7.71336542e+01, -4.81189693e+01, -9.82648557e+00, -3.60643530e+01,\n",
       "        2.96354287e+01, -2.42880165e+01, -1.09835863e+00, -2.58863427e+01,\n",
       "        1.86656757e+01,  2.37974053e+01,  2.23868989e+01,  1.51975416e+00,\n",
       "        6.06117120e+01,  2.46780185e+01, -6.05396064e+01,  4.82282606e+01,\n",
       "        5.60090500e+01,  8.68325686e+00, -1.12611984e+01, -3.01314453e+01,\n",
       "       -2.33136646e+01, -1.02218601e+00, -9.15259249e+01,  3.81345318e+01,\n",
       "        1.93096961e+01,  4.22639317e+01,  1.83222105e+01,  3.57228861e+01,\n",
       "       -9.85623611e-01, -2.81146561e+01, -1.03091010e+02,  4.97334147e+01,\n",
       "       -5.17809221e+01, -6.49196504e+01,  4.13847968e+01,  2.38080823e+01,\n",
       "        1.02336086e+02,  3.23771793e+01, -4.42636765e+00,  8.49239310e+01,\n",
       "        5.55682708e+00, -1.97835916e-01, -8.15770246e+01,  9.31963608e+01,\n",
       "        4.98893896e+00,  3.01964299e+01,  9.59652145e-01,  3.57354800e+01,\n",
       "        1.81456431e+01,  3.28525487e+01, -1.41758864e+00,  3.51720730e+01,\n",
       "        5.37979528e+01,  9.35229338e+01, -7.99752467e+01,  6.18578091e+01,\n",
       "        8.23615979e+00,  4.38274416e+00, -1.11482721e+01, -1.59235920e+01,\n",
       "        1.01133374e+02,  2.43117343e+01,  3.45643544e+00,  1.21870687e+02,\n",
       "       -8.67825132e+01, -3.24817354e+01,  2.17791835e+01, -4.49916775e+01,\n",
       "       -1.42954671e+01,  8.02279078e+01, -7.07326865e+01,  4.87163429e+01,\n",
       "       -1.50760479e+01, -6.75973885e+01, -2.42295895e+00,  2.31652599e+01,\n",
       "        2.07329555e+01, -2.38520245e+01, -8.85505803e+00, -2.53331552e+01,\n",
       "       -1.50541525e+01,  4.23203022e-01, -2.21426199e+00,  6.62094927e+01,\n",
       "        1.94543002e+01,  4.18033157e+01, -4.63372591e+01,  2.96776261e+01,\n",
       "        2.77678964e+01,  3.27772035e+01,  6.90360126e+01, -4.73712812e+01,\n",
       "        1.07865471e+01, -1.16785283e+01, -1.53059266e+01,  5.94337029e+01,\n",
       "        2.75272890e+01,  8.89712310e+01,  6.12376668e+00, -9.79183107e+01,\n",
       "        3.66207133e+00,  3.62487811e+01,  3.12670751e+01,  1.40024206e+01,\n",
       "        5.86373399e+01,  2.25553722e+01, -1.18266336e+01, -2.85142635e+01,\n",
       "        9.31927843e+01, -3.33019329e+01,  1.21269444e+01,  1.18880021e+02,\n",
       "       -5.13417257e+00,  2.60243809e+01,  1.23736500e+02,  1.38897016e+01,\n",
       "       -3.93326159e+01, -4.92286631e+01,  4.58992640e+01, -2.04810165e+01,\n",
       "       -4.23646828e+01, -1.00184731e+02,  3.70746229e+01, -1.27474242e+02,\n",
       "        4.19502244e+01,  3.05372280e+01, -6.78504880e+00, -3.34969045e+01,\n",
       "       -5.38850437e+01, -5.57131792e+01, -1.14272424e+02, -1.49952017e+02,\n",
       "       -4.15675212e+01,  2.55953630e+01,  4.79253296e+01,  3.54599724e+01,\n",
       "       -2.83795947e+01,  2.42435381e+01,  9.82192557e+00, -2.83152865e+01,\n",
       "        9.15174541e+00,  9.60344098e+01, -8.60052683e+01, -1.36018116e+01,\n",
       "        1.40445725e+02,  7.17433866e+00,  9.87650589e+01,  6.95346456e-01,\n",
       "        5.24995892e+01,  3.03694336e+01,  6.49673046e+01, -6.69188582e+01,\n",
       "        6.72945710e+01,  1.24067649e+01,  2.36802934e+01, -8.31257444e+01])"
      ]
     },
     "execution_count": 6,
     "metadata": {},
     "output_type": "execute_result"
    }
   ],
   "source": [
    "y"
   ]
  },
  {
   "cell_type": "code",
   "execution_count": 7,
   "metadata": {
    "colab": {
     "base_uri": "https://localhost:8080/"
    },
    "executionInfo": {
     "elapsed": 29,
     "status": "ok",
     "timestamp": 1693385887237,
     "user": {
      "displayName": "Vipil Khapre",
      "userId": "11657927420291305997"
     },
     "user_tz": -330
    },
    "id": "nnB9u96lqIq0",
    "outputId": "2011ff75-1399-449e-99f6-ea21554a1b48",
    "tags": []
   },
   "outputs": [
    {
     "data": {
      "text/plain": [
       "0     -0.770553\n",
       "1     -0.533665\n",
       "2     -2.187763\n",
       "3      0.262050\n",
       "4      0.319313\n",
       "         ...   \n",
       "995   -1.310655\n",
       "996    1.714746\n",
       "997    0.330952\n",
       "998    1.527050\n",
       "999   -2.341042\n",
       "Name: 0, Length: 1000, dtype: float64"
      ]
     },
     "execution_count": 7,
     "metadata": {},
     "output_type": "execute_result"
    }
   ],
   "source": [
    "pd.DataFrame(X)[0]"
   ]
  },
  {
   "cell_type": "code",
   "execution_count": 8,
   "metadata": {
    "colab": {
     "base_uri": "https://localhost:8080/",
     "height": 467
    },
    "executionInfo": {
     "elapsed": 2630,
     "status": "ok",
     "timestamp": 1693385897244,
     "user": {
      "displayName": "Vipil Khapre",
      "userId": "11657927420291305997"
     },
     "user_tz": -330
    },
    "id": "Pe--0H0fqIq1",
    "outputId": "403a2820-92a9-4724-e1a1-645a81f85337",
    "tags": []
   },
   "outputs": [
    {
     "data": {
      "text/plain": [
       "<Axes: xlabel='0', ylabel='1'>"
      ]
     },
     "execution_count": 8,
     "metadata": {},
     "output_type": "execute_result"
    },
    {
     "data": {
      "image/png": "[encoded data removed]",
      "text/plain": [
       "<Figure size 640x480 with 1 Axes>"
      ]
     },
     "metadata": {},
     "output_type": "display_data"
    }
   ],
   "source": [
    "sns.scatterplot(x=pd.DataFrame(X)[0],y=pd.DataFrame(X)[1],hue=y)"
   ]
  },
  {
   "cell_type": "code",
   "execution_count": 9,
   "metadata": {
    "executionInfo": {
     "elapsed": 478,
     "status": "ok",
     "timestamp": 1693385904728,
     "user": {
      "displayName": "Vipil Khapre",
      "userId": "11657927420291305997"
     },
     "user_tz": -330
    },
    "id": "jo_bwQ5_qIq1",
    "tags": []
   },
   "outputs": [],
   "source": [
    "from sklearn.model_selection import train_test_split\n",
    "X_train,X_test,y_train,y_test=train_test_split(X,y,test_size=0.25,random_state=10)"
   ]
  },
  {
   "cell_type": "code",
   "execution_count": 10,
   "metadata": {
    "executionInfo": {
     "elapsed": 10,
     "status": "ok",
     "timestamp": 1693385904728,
     "user": {
      "displayName": "Vipil Khapre",
      "userId": "11657927420291305997"
     },
     "user_tz": -330
    },
    "id": "nITYOV9oqIq2",
    "tags": []
   },
   "outputs": [],
   "source": [
    "from sklearn.svm import SVR"
   ]
  },
  {
   "cell_type": "code",
   "execution_count": 11,
   "metadata": {
    "executionInfo": {
     "elapsed": 659,
     "status": "ok",
     "timestamp": 1693386091301,
     "user": {
      "displayName": "Vipil Khapre",
      "userId": "11657927420291305997"
     },
     "user_tz": -330
    },
    "id": "1NzHguuFqIq3",
    "tags": []
   },
   "outputs": [],
   "source": [
    "svr=SVR(kernel='linear')"
   ]
  },
  {
   "cell_type": "code",
   "execution_count": 12,
   "metadata": {
    "colab": {
     "base_uri": "https://localhost:8080/",
     "height": 75
    },
    "executionInfo": {
     "elapsed": 22,
     "status": "ok",
     "timestamp": 1693386091770,
     "user": {
      "displayName": "Vipil Khapre",
      "userId": "11657927420291305997"
     },
     "user_tz": -330
    },
    "id": "q4yViOLNqIq4",
    "outputId": "d6288821-ce6a-4fb8-b57b-283ac61493eb",
    "tags": []
   },
   "outputs": [
    {
     "data": {
      "text/html": [
       "<style>#sk-container-id-1 {color: black;}#sk-container-id-1 pre{padding: 0;}#sk-container-id-1 div.sk-toggleable {background-color: white;}#sk-container-id-1 label.sk-toggleable__label {cursor: pointer;display: block;width: 100%;margin-bottom: 0;padding: 0.3em;box-sizing: border-box;text-align: center;}#sk-container-id-1 label.sk-toggleable__label-arrow:before {content: \"▸\";float: left;margin-right: 0.25em;color: #696969;}#sk-container-id-1 label.sk-toggleable__label-arrow:hover:before {color: black;}#sk-container-id-1 div.sk-estimator:hover label.sk-toggleable__label-arrow:before {color: black;}#sk-container-id-1 div.sk-toggleable__content {max-height: 0;max-width: 0;overflow: hidden;text-align: left;background-color: #f0f8ff;}#sk-container-id-1 div.sk-toggleable__content pre {margin: 0.2em;color: black;border-radius: 0.25em;background-color: #f0f8ff;}#sk-container-id-1 input.sk-toggleable__control:checked~div.sk-toggleable__content {max-height: 200px;max-width: 100%;overflow: auto;}#sk-container-id-1 input.sk-toggleable__control:checked~label.sk-toggleable__label-arrow:before {content: \"▾\";}#sk-container-id-1 div.sk-estimator input.sk-toggleable__control:checked~label.sk-toggleable__label {background-color: #d4ebff;}#sk-container-id-1 div.sk-label input.sk-toggleable__control:checked~label.sk-toggleable__label {background-color: #d4ebff;}#sk-container-id-1 input.sk-hidden--visually {border: 0;clip: rect(1px 1px 1px 1px);clip: rect(1px, 1px, 1px, 1px);height: 1px;margin: -1px;overflow: hidden;padding: 0;position: absolute;width: 1px;}#sk-container-id-1 div.sk-estimator {font-family: monospace;background-color: #f0f8ff;border: 1px dotted black;border-radius: 0.25em;box-sizing: border-box;margin-bottom: 0.5em;}#sk-container-id-1 div.sk-estimator:hover {background-color: #d4ebff;}#sk-container-id-1 div.sk-parallel-item::after {content: \"\";width: 100%;border-bottom: 1px solid gray;flex-grow: 1;}#sk-container-id-1 div.sk-label:hover label.sk-toggleable__label {background-color: #d4ebff;}#sk-container-id-1 div.sk-serial::before {content: \"\";position: absolute;border-left: 1px solid gray;box-sizing: border-box;top: 0;bottom: 0;left: 50%;z-index: 0;}#sk-container-id-1 div.sk-serial {display: flex;flex-direction: column;align-items: center;background-color: white;padding-right: 0.2em;padding-left: 0.2em;position: relative;}#sk-container-id-1 div.sk-item {position: relative;z-index: 1;}#sk-container-id-1 div.sk-parallel {display: flex;align-items: stretch;justify-content: center;background-color: white;position: relative;}#sk-container-id-1 div.sk-item::before, #sk-container-id-1 div.sk-parallel-item::before {content: \"\";position: absolute;border-left: 1px solid gray;box-sizing: border-box;top: 0;bottom: 0;left: 50%;z-index: -1;}#sk-container-id-1 div.sk-parallel-item {display: flex;flex-direction: column;z-index: 1;position: relative;background-color: white;}#sk-container-id-1 div.sk-parallel-item:first-child::after {align-self: flex-end;width: 50%;}#sk-container-id-1 div.sk-parallel-item:last-child::after {align-self: flex-start;width: 50%;}#sk-container-id-1 div.sk-parallel-item:only-child::after {width: 0;}#sk-container-id-1 div.sk-dashed-wrapped {border: 1px dashed gray;margin: 0 0.4em 0.5em 0.4em;box-sizing: border-box;padding-bottom: 0.4em;background-color: white;}#sk-container-id-1 div.sk-label label {font-family: monospace;font-weight: bold;display: inline-block;line-height: 1.2em;}#sk-container-id-1 div.sk-label-container {text-align: center;}#sk-container-id-1 div.sk-container {/* jupyter's `normalize.less` sets `[hidden] { display: none; }` but bootstrap.min.css set `[hidden] { display: none !important; }` so we also need the `!important` here to be able to override the default hidden behavior on the sphinx rendered scikit-learn.org. See: https://github.com/scikit-learn/scikit-learn/issues/21755 */display: inline-block !important;position: relative;}#sk-container-id-1 div.sk-text-repr-fallback {display: none;}</style><div id=\"sk-container-id-1\" class=\"sk-top-container\"><div class=\"sk-text-repr-fallback\"><pre>SVR(kernel=&#x27;linear&#x27;)</pre><b>In a Jupyter environment, please rerun this cell to show the HTML representation or trust the notebook. <br />On GitHub, the HTML representation is unable to render, please try loading this page with nbviewer.org.</b></div><div class=\"sk-container\" hidden><div class=\"sk-item\"><div class=\"sk-estimator sk-toggleable\"><input class=\"sk-toggleable__control sk-hidden--visually\" id=\"sk-estimator-id-1\" type=\"checkbox\" checked><label for=\"sk-estimator-id-1\" class=\"sk-toggleable__label sk-toggleable__label-arrow\">SVR</label><div class=\"sk-toggleable__content\"><pre>SVR(kernel=&#x27;linear&#x27;)</pre></div></div></div></div></div>"
      ],
      "text/plain": [
       "SVR(kernel='linear')"
      ]
     },
     "execution_count": 12,
     "metadata": {},
     "output_type": "execute_result"
    }
   ],
   "source": [
    "svr.fit(X_train,y_train)"
   ]
  },
  {
   "cell_type": "code",
   "execution_count": 13,
   "metadata": {
    "colab": {
     "base_uri": "https://localhost:8080/"
    },
    "executionInfo": {
     "elapsed": 12,
     "status": "ok",
     "timestamp": 1693386093295,
     "user": {
      "displayName": "Vipil Khapre",
      "userId": "11657927420291305997"
     },
     "user_tz": -330
    },
    "id": "UehOgHVBqIq5",
    "outputId": "04d728c6-0dcb-4073-ee7f-212680271af2",
    "tags": []
   },
   "outputs": [
    {
     "data": {
      "text/plain": [
       "array([[36.95600312, 34.12271258]])"
      ]
     },
     "execution_count": 13,
     "metadata": {},
     "output_type": "execute_result"
    }
   ],
   "source": [
    "svr.coef_"
   ]
  },
  {
   "cell_type": "code",
   "execution_count": 14,
   "metadata": {
    "executionInfo": {
     "elapsed": 8,
     "status": "ok",
     "timestamp": 1693386094905,
     "user": {
      "displayName": "Vipil Khapre",
      "userId": "11657927420291305997"
     },
     "user_tz": -330
    },
    "id": "_UnW7YELqIq5",
    "tags": []
   },
   "outputs": [],
   "source": [
    "## Prediction\n",
    "y_pred=svr.predict(X_test)"
   ]
  },
  {
   "cell_type": "code",
   "execution_count": 15,
   "metadata": {
    "colab": {
     "base_uri": "https://localhost:8080/"
    },
    "executionInfo": {
     "elapsed": 14,
     "status": "ok",
     "timestamp": 1693386097949,
     "user": {
      "displayName": "Vipil Khapre",
      "userId": "11657927420291305997"
     },
     "user_tz": -330
    },
    "id": "CW0r-IbsqIq5",
    "outputId": "96c32424-c5bf-414a-a365-36f0210f2ed7",
    "tags": []
   },
   "outputs": [
    {
     "data": {
      "text/plain": [
       "array([-1.54917695e+01, -3.76798961e+00, -3.98653478e+01, -1.68479930e-02,\n",
       "       -5.95254503e+00,  1.14840105e+02,  4.36120829e+01, -7.13255290e+01,\n",
       "       -6.49246615e+01,  5.97595759e+01, -1.08264128e+01, -7.60911760e+01,\n",
       "       -7.35676426e+01,  5.11534691e-01, -1.00313319e+02,  5.44074860e+01,\n",
       "       -4.95651648e+01, -7.03960721e+00,  3.00865766e+01,  5.62713414e+01,\n",
       "        8.13487249e+00,  3.05081209e+01,  5.05394260e+01,  3.74187304e+01,\n",
       "       -1.01666901e+01,  6.52942302e+01, -4.57747259e+01, -1.22794691e+01,\n",
       "        2.74928157e+01,  9.80704728e+01, -9.30835952e+01, -4.46774123e+01,\n",
       "        1.26085340e+01,  5.67916292e+01, -6.04446587e+01, -7.05936427e-01,\n",
       "        4.95445411e+01,  4.75680655e+01, -3.48984706e+01,  3.02498887e+01,\n",
       "        3.37136499e+01,  9.40505935e-01,  7.02769864e+01, -5.09676133e+01,\n",
       "        8.55222007e+01,  8.03174028e-01, -4.33643057e+01,  8.90123320e+01,\n",
       "       -4.03397397e+01, -3.13953087e+01, -5.33191697e+01,  1.89755395e+01,\n",
       "       -1.34666967e+01, -2.94763060e+01, -7.36592411e+01, -2.50207977e+01,\n",
       "        9.12280946e+01,  4.06159266e+01, -2.80037643e+01,  9.08764697e+00,\n",
       "       -3.67567796e+01,  9.11629883e+01,  1.37463560e+02, -4.01452761e+01,\n",
       "       -2.78593164e+00,  1.05665258e+01, -1.72733080e+01, -5.00338037e+00,\n",
       "        2.89444337e+01, -3.59753421e+01,  4.43724578e+00, -9.08448270e+01,\n",
       "       -3.97782699e+01, -3.07802402e+01, -5.19408322e+01, -4.91811499e+01,\n",
       "       -1.29103620e+02, -4.13272354e+01, -5.51297656e+01,  1.08216879e+02,\n",
       "       -7.60434415e+01, -3.91143659e+01,  3.88951846e+01,  6.62088006e+01,\n",
       "       -2.86824438e+01,  3.53567338e+01,  7.46283785e+00,  5.00105984e+01,\n",
       "       -3.96882132e+01, -3.12688629e+01, -7.60139309e+01, -1.39747076e+01,\n",
       "       -3.44318800e+01,  8.67081330e+01,  1.94311922e+01, -5.57534241e+01,\n",
       "       -4.34891555e+00,  1.06255010e+01,  5.86519510e+01, -1.07876048e+02,\n",
       "        5.94776443e+01, -2.48176584e+01,  2.97056213e+01, -8.16380342e+01,\n",
       "        1.45273515e+02,  1.16209469e+01,  4.56699006e+01, -4.41327358e+01,\n",
       "        8.29391787e+01,  1.36556022e+01,  3.71254399e+01,  7.90441815e+00,\n",
       "        1.99172246e+01,  2.11695353e+01,  5.60416155e+00, -6.87898792e+01,\n",
       "       -7.02634545e+00, -2.85917007e+00,  3.98209530e+01,  9.70430350e+01,\n",
       "        3.41701222e+00,  3.23105115e+00,  1.81375387e+01, -1.19137363e+02,\n",
       "       -2.22577199e+01, -1.30956366e+02,  1.97128208e+00, -4.21114531e+01,\n",
       "       -9.20087390e+01,  8.88665225e+01,  5.06271000e+01,  2.29050521e+01,\n",
       "       -5.16015997e+00, -4.57621440e+01,  3.71870711e+00, -4.56002000e+01,\n",
       "        3.82463374e+01, -1.26753154e+01,  6.43613654e+01,  7.69508589e+01,\n",
       "        3.50263931e+01, -4.83065213e+01, -1.15332990e+01, -1.87511747e+01,\n",
       "        7.83813969e+01,  6.02733351e+01,  2.43903387e+01,  7.43765627e+01,\n",
       "       -5.21449705e+01,  3.29494081e+01,  1.64208431e+01, -4.41953476e+01,\n",
       "       -5.17060643e+01,  2.77561086e+01, -5.57215599e+00,  5.46891302e+00,\n",
       "        1.62296801e+01, -2.66166562e+01,  2.41676580e+01, -1.39570586e+01,\n",
       "        8.39200465e+00,  2.19304039e+01, -6.54081041e+01, -1.24724885e+02,\n",
       "       -4.56429226e+00, -8.10899128e+01,  1.76841228e+01, -7.10585522e+01,\n",
       "       -1.60240578e+01, -4.46880235e+01, -9.17805456e-01,  1.86276134e+01,\n",
       "        7.10236546e+01, -3.95173199e+01, -1.71362141e+01, -5.22097214e+00,\n",
       "        4.50054157e+00, -7.50132212e+01,  3.54283981e+01, -1.25321436e+01,\n",
       "        1.14193830e+01, -3.43412145e+01,  1.35599520e+01,  2.63788156e+00,\n",
       "        1.16118744e+02,  9.24770293e+01,  4.49792397e+01, -6.75199922e+01,\n",
       "       -3.46646385e+01, -3.41572567e+01, -3.68515815e+01, -9.69875062e+01,\n",
       "       -6.24344006e+01,  2.29978104e+01,  1.52565853e+01, -5.06406356e+01,\n",
       "       -1.07149388e+01, -6.48975140e+01, -4.69773332e+01,  9.32679263e+01,\n",
       "        6.97143088e+00, -5.91596780e+01,  6.86354987e+01,  1.84095102e+01,\n",
       "        1.10271691e+01,  2.08037151e+01,  7.62440089e+01, -7.23281674e+01,\n",
       "        3.38314263e+01, -2.12594906e+01,  2.46982728e+00, -1.40955681e+01,\n",
       "        6.37516146e+01,  2.22238566e+01, -5.27064013e+00, -1.82863405e+01,\n",
       "       -5.67672071e+00,  4.87148100e+01,  1.87014746e+01, -5.18939459e+01,\n",
       "       -2.14922913e-01, -1.25226904e+02,  3.14748870e+01, -2.87975372e+01,\n",
       "        3.46845013e+01, -3.41506443e+01, -4.76924292e+00, -8.31518945e+01,\n",
       "        9.94890610e+01, -9.93179341e+01,  6.21683537e+01,  6.94692382e+01,\n",
       "        2.36539914e+01, -5.43214842e+01,  2.10146434e+01, -3.51853171e+01,\n",
       "        7.37751391e+00, -7.45215354e+01, -5.52575985e+00, -2.80675797e+01,\n",
       "        4.13075114e+00, -2.53068277e+01,  4.93980944e+01, -1.72774147e+01,\n",
       "        4.38423622e+01,  5.98405757e+00, -9.44470884e+01, -1.05559927e+02,\n",
       "       -6.83768393e+00,  6.91537623e+00])"
      ]
     },
     "execution_count": 15,
     "metadata": {},
     "output_type": "execute_result"
    }
   ],
   "source": [
    "y_pred"
   ]
  },
  {
   "cell_type": "code",
   "execution_count": 16,
   "metadata": {
    "executionInfo": {
     "elapsed": 3,
     "status": "ok",
     "timestamp": 1693386099834,
     "user": {
      "displayName": "Vipil Khapre",
      "userId": "11657927420291305997"
     },
     "user_tz": -330
    },
    "id": "_V8L5uhcqIq6",
    "tags": []
   },
   "outputs": [],
   "source": [
    "from sklearn.metrics import r2_score"
   ]
  },
  {
   "cell_type": "code",
   "execution_count": 17,
   "metadata": {
    "colab": {
     "base_uri": "https://localhost:8080/"
    },
    "executionInfo": {
     "elapsed": 8,
     "status": "ok",
     "timestamp": 1693386103140,
     "user": {
      "displayName": "Vipil Khapre",
      "userId": "11657927420291305997"
     },
     "user_tz": -330
    },
    "id": "j7244_g_qIq6",
    "outputId": "8129b74e-bc9b-4d09-8567-1239830639d4",
    "tags": []
   },
   "outputs": [
    {
     "name": "stdout",
     "output_type": "stream",
     "text": [
      "0.9966097333599899\n"
     ]
    }
   ],
   "source": [
    "print(r2_score(y_test,y_pred))"
   ]
  },
  {
   "cell_type": "markdown",
   "metadata": {
    "id": "PrpM_v3SqIq6"
   },
   "source": [
    "## Hyperparametere Tuning With SVR"
   ]
  },
  {
   "cell_type": "code",
   "execution_count": 18,
   "metadata": {
    "executionInfo": {
     "elapsed": 4,
     "status": "ok",
     "timestamp": 1693386108780,
     "user": {
      "displayName": "Vipil Khapre",
      "userId": "11657927420291305997"
     },
     "user_tz": -330
    },
    "id": "x_e1cKqFqIq7",
    "tags": []
   },
   "outputs": [],
   "source": [
    "from sklearn.model_selection import GridSearchCV\n",
    "\n",
    "# defining parameter range\n",
    "param_grid = {'C': [0.1, 1, 10, 100, 1000],\n",
    "              'gamma': [1, 0.1, 0.01, 0.001, 0.0001],\n",
    "              'kernel':['linear'],\n",
    "              'epsilon':[0.1,0.2,0.3]\n",
    "              }"
   ]
  },
  {
   "cell_type": "code",
   "execution_count": 19,
   "metadata": {
    "executionInfo": {
     "elapsed": 5,
     "status": "ok",
     "timestamp": 1693386111007,
     "user": {
      "displayName": "Vipil Khapre",
      "userId": "11657927420291305997"
     },
     "user_tz": -330
    },
    "id": "2Odkk2VvqIq7",
    "tags": []
   },
   "outputs": [],
   "source": [
    "grid=GridSearchCV(SVR(),param_grid=param_grid,refit=True,cv=5,verbose=3)"
   ]
  },
  {
   "cell_type": "code",
   "execution_count": 20,
   "metadata": {
    "colab": {
     "base_uri": "https://localhost:8080/",
     "height": 1000
    },
    "executionInfo": {
     "elapsed": 75617,
     "status": "ok",
     "timestamp": 1693386190350,
     "user": {
      "displayName": "Vipil Khapre",
      "userId": "11657927420291305997"
     },
     "user_tz": -330
    },
    "id": "CxYbcyZXqIq8",
    "outputId": "712e2c68-8953-41a0-c8f1-203a2cc64336",
    "tags": []
   },
   "outputs": [
    {
     "name": "stdout",
     "output_type": "stream",
     "text": [
      "Fitting 5 folds for each of 75 candidates, totalling 375 fits\n",
      "[CV 1/5] END C=0.1, epsilon=0.1, gamma=1, kernel=linear;, score=0.977 total time=   0.0s\n",
      "[CV 2/5] END C=0.1, epsilon=0.1, gamma=1, kernel=linear;, score=0.980 total time=   0.0s\n",
      "[CV 3/5] END C=0.1, epsilon=0.1, gamma=1, kernel=linear;, score=0.975 total time=   0.0s\n",
      "[CV 4/5] END C=0.1, epsilon=0.1, gamma=1, kernel=linear;, score=0.980 total time=   0.0s\n",
      "[CV 5/5] END C=0.1, epsilon=0.1, gamma=1, kernel=linear;, score=0.977 total time=   0.0s\n",
      "[CV 1/5] END C=0.1, epsilon=0.1, gamma=0.1, kernel=linear;, score=0.977 total time=   0.0s\n",
      "[CV 2/5] END C=0.1, epsilon=0.1, gamma=0.1, kernel=linear;, score=0.980 total time=   0.0s\n",
      "[CV 3/5] END C=0.1, epsilon=0.1, gamma=0.1, kernel=linear;, score=0.975 total time=   0.0s\n",
      "[CV 4/5] END C=0.1, epsilon=0.1, gamma=0.1, kernel=linear;, score=0.980 total time=   0.0s\n",
      "[CV 5/5] END C=0.1, epsilon=0.1, gamma=0.1, kernel=linear;, score=0.977 total time=   0.0s\n",
      "[CV 1/5] END C=0.1, epsilon=0.1, gamma=0.01, kernel=linear;, score=0.977 total time=   0.0s\n",
      "[CV 2/5] END C=0.1, epsilon=0.1, gamma=0.01, kernel=linear;, score=0.980 total time=   0.0s\n",
      "[CV 3/5] END C=0.1, epsilon=0.1, gamma=0.01, kernel=linear;, score=0.975 total time=   0.0s\n",
      "[CV 4/5] END C=0.1, epsilon=0.1, gamma=0.01, kernel=linear;, score=0.980 total time=   0.0s\n",
      "[CV 5/5] END C=0.1, epsilon=0.1, gamma=0.01, kernel=linear;, score=0.977 total time=   0.0s\n",
      "[CV 1/5] END C=0.1, epsilon=0.1, gamma=0.001, kernel=linear;, score=0.977 total time=   0.0s\n",
      "[CV 2/5] END C=0.1, epsilon=0.1, gamma=0.001, kernel=linear;, score=0.980 total time=   0.0s\n",
      "[CV 3/5] END C=0.1, epsilon=0.1, gamma=0.001, kernel=linear;, score=0.975 total time=   0.0s\n",
      "[CV 4/5] END C=0.1, epsilon=0.1, gamma=0.001, kernel=linear;, score=0.980 total time=   0.0s\n",
      "[CV 5/5] END C=0.1, epsilon=0.1, gamma=0.001, kernel=linear;, score=0.977 total time=   0.0s\n",
      "[CV 1/5] END C=0.1, epsilon=0.1, gamma=0.0001, kernel=linear;, score=0.977 total time=   0.0s\n",
      "[CV 2/5] END C=0.1, epsilon=0.1, gamma=0.0001, kernel=linear;, score=0.980 total time=   0.0s\n",
      "[CV 3/5] END C=0.1, epsilon=0.1, gamma=0.0001, kernel=linear;, score=0.975 total time=   0.0s\n",
      "[CV 4/5] END C=0.1, epsilon=0.1, gamma=0.0001, kernel=linear;, score=0.980 total time=   0.0s\n",
      "[CV 5/5] END C=0.1, epsilon=0.1, gamma=0.0001, kernel=linear;, score=0.977 total time=   0.0s\n",
      "[CV 1/5] END C=0.1, epsilon=0.2, gamma=1, kernel=linear;, score=0.977 total time=   0.0s\n",
      "[CV 2/5] END C=0.1, epsilon=0.2, gamma=1, kernel=linear;, score=0.979 total time=   0.0s\n",
      "[CV 3/5] END C=0.1, epsilon=0.2, gamma=1, kernel=linear;, score=0.975 total time=   0.0s\n",
      "[CV 4/5] END C=0.1, epsilon=0.2, gamma=1, kernel=linear;, score=0.980 total time=   0.0s\n",
      "[CV 5/5] END C=0.1, epsilon=0.2, gamma=1, kernel=linear;, score=0.978 total time=   0.0s\n",
      "[CV 1/5] END C=0.1, epsilon=0.2, gamma=0.1, kernel=linear;, score=0.977 total time=   0.0s\n",
      "[CV 2/5] END C=0.1, epsilon=0.2, gamma=0.1, kernel=linear;, score=0.979 total time=   0.0s\n",
      "[CV 3/5] END C=0.1, epsilon=0.2, gamma=0.1, kernel=linear;, score=0.975 total time=   0.0s\n",
      "[CV 4/5] END C=0.1, epsilon=0.2, gamma=0.1, kernel=linear;, score=0.980 total time=   0.0s\n",
      "[CV 5/5] END C=0.1, epsilon=0.2, gamma=0.1, kernel=linear;, score=0.978 total time=   0.0s\n",
      "[CV 1/5] END C=0.1, epsilon=0.2, gamma=0.01, kernel=linear;, score=0.977 total time=   0.0s\n",
      "[CV 2/5] END C=0.1, epsilon=0.2, gamma=0.01, kernel=linear;, score=0.979 total time=   0.0s\n",
      "[CV 3/5] END C=0.1, epsilon=0.2, gamma=0.01, kernel=linear;, score=0.975 total time=   0.0s\n",
      "[CV 4/5] END C=0.1, epsilon=0.2, gamma=0.01, kernel=linear;, score=0.980 total time=   0.0s\n",
      "[CV 5/5] END C=0.1, epsilon=0.2, gamma=0.01, kernel=linear;, score=0.978 total time=   0.0s\n",
      "[CV 1/5] END C=0.1, epsilon=0.2, gamma=0.001, kernel=linear;, score=0.977 total time=   0.0s\n",
      "[CV 2/5] END C=0.1, epsilon=0.2, gamma=0.001, kernel=linear;, score=0.979 total time=   0.0s\n",
      "[CV 3/5] END C=0.1, epsilon=0.2, gamma=0.001, kernel=linear;, score=0.975 total time=   0.0s\n",
      "[CV 4/5] END C=0.1, epsilon=0.2, gamma=0.001, kernel=linear;, score=0.980 total time=   0.0s\n",
      "[CV 5/5] END C=0.1, epsilon=0.2, gamma=0.001, kernel=linear;, score=0.978 total time=   0.0s\n",
      "[CV 1/5] END C=0.1, epsilon=0.2, gamma=0.0001, kernel=linear;, score=0.977 total time=   0.0s\n",
      "[CV 2/5] END C=0.1, epsilon=0.2, gamma=0.0001, kernel=linear;, score=0.979 total time=   0.0s\n",
      "[CV 3/5] END C=0.1, epsilon=0.2, gamma=0.0001, kernel=linear;, score=0.975 total time=   0.0s\n",
      "[CV 4/5] END C=0.1, epsilon=0.2, gamma=0.0001, kernel=linear;, score=0.980 total time=   0.0s\n",
      "[CV 5/5] END C=0.1, epsilon=0.2, gamma=0.0001, kernel=linear;, score=0.978 total time=   0.0s\n",
      "[CV 1/5] END C=0.1, epsilon=0.3, gamma=1, kernel=linear;, score=0.977 total time=   0.0s\n",
      "[CV 2/5] END C=0.1, epsilon=0.3, gamma=1, kernel=linear;, score=0.979 total time=   0.0s\n",
      "[CV 3/5] END C=0.1, epsilon=0.3, gamma=1, kernel=linear;, score=0.974 total time=   0.0s\n",
      "[CV 4/5] END C=0.1, epsilon=0.3, gamma=1, kernel=linear;, score=0.979 total time=   0.0s\n",
      "[CV 5/5] END C=0.1, epsilon=0.3, gamma=1, kernel=linear;, score=0.978 total time=   0.0s\n",
      "[CV 1/5] END C=0.1, epsilon=0.3, gamma=0.1, kernel=linear;, score=0.977 total time=   0.0s\n",
      "[CV 2/5] END C=0.1, epsilon=0.3, gamma=0.1, kernel=linear;, score=0.979 total time=   0.0s\n",
      "[CV 3/5] END C=0.1, epsilon=0.3, gamma=0.1, kernel=linear;, score=0.974 total time=   0.0s\n",
      "[CV 4/5] END C=0.1, epsilon=0.3, gamma=0.1, kernel=linear;, score=0.979 total time=   0.0s\n",
      "[CV 5/5] END C=0.1, epsilon=0.3, gamma=0.1, kernel=linear;, score=0.978 total time=   0.0s\n",
      "[CV 1/5] END C=0.1, epsilon=0.3, gamma=0.01, kernel=linear;, score=0.977 total time=   0.0s\n",
      "[CV 2/5] END C=0.1, epsilon=0.3, gamma=0.01, kernel=linear;, score=0.979 total time=   0.0s\n",
      "[CV 3/5] END C=0.1, epsilon=0.3, gamma=0.01, kernel=linear;, score=0.974 total time=   0.0s\n",
      "[CV 4/5] END C=0.1, epsilon=0.3, gamma=0.01, kernel=linear;, score=0.979 total time=   0.0s\n",
      "[CV 5/5] END C=0.1, epsilon=0.3, gamma=0.01, kernel=linear;, score=0.978 total time=   0.0s\n",
      "[CV 1/5] END C=0.1, epsilon=0.3, gamma=0.001, kernel=linear;, score=0.977 total time=   0.0s\n",
      "[CV 2/5] END C=0.1, epsilon=0.3, gamma=0.001, kernel=linear;, score=0.979 total time=   0.0s\n",
      "[CV 3/5] END C=0.1, epsilon=0.3, gamma=0.001, kernel=linear;, score=0.974 total time=   0.0s\n",
      "[CV 4/5] END C=0.1, epsilon=0.3, gamma=0.001, kernel=linear;, score=0.979 total time=   0.0s\n",
      "[CV 5/5] END C=0.1, epsilon=0.3, gamma=0.001, kernel=linear;, score=0.978 total time=   0.0s\n",
      "[CV 1/5] END C=0.1, epsilon=0.3, gamma=0.0001, kernel=linear;, score=0.977 total time=   0.0s\n",
      "[CV 2/5] END C=0.1, epsilon=0.3, gamma=0.0001, kernel=linear;, score=0.979 total time=   0.0s\n",
      "[CV 3/5] END C=0.1, epsilon=0.3, gamma=0.0001, kernel=linear;, score=0.974 total time=   0.0s\n",
      "[CV 4/5] END C=0.1, epsilon=0.3, gamma=0.0001, kernel=linear;, score=0.979 total time=   0.0s\n",
      "[CV 5/5] END C=0.1, epsilon=0.3, gamma=0.0001, kernel=linear;, score=0.978 total time=   0.0s\n",
      "[CV 1/5] END C=1, epsilon=0.1, gamma=1, kernel=linear;, score=0.996 total time=   0.0s\n",
      "[CV 2/5] END C=1, epsilon=0.1, gamma=1, kernel=linear;, score=0.996 total time=   0.0s\n",
      "[CV 3/5] END C=1, epsilon=0.1, gamma=1, kernel=linear;, score=0.997 total time=   0.0s\n",
      "[CV 4/5] END C=1, epsilon=0.1, gamma=1, kernel=linear;, score=0.997 total time=   0.0s\n",
      "[CV 5/5] END C=1, epsilon=0.1, gamma=1, kernel=linear;, score=0.996 total time=   0.0s\n",
      "[CV 1/5] END C=1, epsilon=0.1, gamma=0.1, kernel=linear;, score=0.996 total time=   0.0s\n",
      "[CV 2/5] END C=1, epsilon=0.1, gamma=0.1, kernel=linear;, score=0.996 total time=   0.0s\n",
      "[CV 3/5] END C=1, epsilon=0.1, gamma=0.1, kernel=linear;, score=0.997 total time=   0.0s\n",
      "[CV 4/5] END C=1, epsilon=0.1, gamma=0.1, kernel=linear;, score=0.997 total time=   0.0s\n",
      "[CV 5/5] END C=1, epsilon=0.1, gamma=0.1, kernel=linear;, score=0.996 total time=   0.0s\n",
      "[CV 1/5] END C=1, epsilon=0.1, gamma=0.01, kernel=linear;, score=0.996 total time=   0.0s\n",
      "[CV 2/5] END C=1, epsilon=0.1, gamma=0.01, kernel=linear;, score=0.996 total time=   0.0s\n",
      "[CV 3/5] END C=1, epsilon=0.1, gamma=0.01, kernel=linear;, score=0.997 total time=   0.0s\n",
      "[CV 4/5] END C=1, epsilon=0.1, gamma=0.01, kernel=linear;, score=0.997 total time=   0.0s\n",
      "[CV 5/5] END C=1, epsilon=0.1, gamma=0.01, kernel=linear;, score=0.996 total time=   0.0s\n",
      "[CV 1/5] END C=1, epsilon=0.1, gamma=0.001, kernel=linear;, score=0.996 total time=   0.0s\n",
      "[CV 2/5] END C=1, epsilon=0.1, gamma=0.001, kernel=linear;, score=0.996 total time=   0.0s\n",
      "[CV 3/5] END C=1, epsilon=0.1, gamma=0.001, kernel=linear;, score=0.997 total time=   0.0s\n",
      "[CV 4/5] END C=1, epsilon=0.1, gamma=0.001, kernel=linear;, score=0.997 total time=   0.0s\n",
      "[CV 5/5] END C=1, epsilon=0.1, gamma=0.001, kernel=linear;, score=0.996 total time=   0.0s\n",
      "[CV 1/5] END C=1, epsilon=0.1, gamma=0.0001, kernel=linear;, score=0.996 total time=   0.0s\n",
      "[CV 2/5] END C=1, epsilon=0.1, gamma=0.0001, kernel=linear;, score=0.996 total time=   0.0s\n",
      "[CV 3/5] END C=1, epsilon=0.1, gamma=0.0001, kernel=linear;, score=0.997 total time=   0.0s\n",
      "[CV 4/5] END C=1, epsilon=0.1, gamma=0.0001, kernel=linear;, score=0.997 total time=   0.0s\n",
      "[CV 5/5] END C=1, epsilon=0.1, gamma=0.0001, kernel=linear;, score=0.996 total time=   0.0s\n",
      "[CV 1/5] END C=1, epsilon=0.2, gamma=1, kernel=linear;, score=0.996 total time=   0.0s\n",
      "[CV 2/5] END C=1, epsilon=0.2, gamma=1, kernel=linear;, score=0.996 total time=   0.0s\n",
      "[CV 3/5] END C=1, epsilon=0.2, gamma=1, kernel=linear;, score=0.997 total time=   0.0s\n",
      "[CV 4/5] END C=1, epsilon=0.2, gamma=1, kernel=linear;, score=0.997 total time=   0.0s\n",
      "[CV 5/5] END C=1, epsilon=0.2, gamma=1, kernel=linear;, score=0.996 total time=   0.0s\n",
      "[CV 1/5] END C=1, epsilon=0.2, gamma=0.1, kernel=linear;, score=0.996 total time=   0.0s\n",
      "[CV 2/5] END C=1, epsilon=0.2, gamma=0.1, kernel=linear;, score=0.996 total time=   0.0s\n",
      "[CV 3/5] END C=1, epsilon=0.2, gamma=0.1, kernel=linear;, score=0.997 total time=   0.0s\n",
      "[CV 4/5] END C=1, epsilon=0.2, gamma=0.1, kernel=linear;, score=0.997 total time=   0.0s\n",
      "[CV 5/5] END C=1, epsilon=0.2, gamma=0.1, kernel=linear;, score=0.996 total time=   0.0s\n",
      "[CV 1/5] END C=1, epsilon=0.2, gamma=0.01, kernel=linear;, score=0.996 total time=   0.0s\n",
      "[CV 2/5] END C=1, epsilon=0.2, gamma=0.01, kernel=linear;, score=0.996 total time=   0.0s\n",
      "[CV 3/5] END C=1, epsilon=0.2, gamma=0.01, kernel=linear;, score=0.997 total time=   0.0s\n",
      "[CV 4/5] END C=1, epsilon=0.2, gamma=0.01, kernel=linear;, score=0.997 total time=   0.0s\n",
      "[CV 5/5] END C=1, epsilon=0.2, gamma=0.01, kernel=linear;, score=0.996 total time=   0.0s\n",
      "[CV 1/5] END C=1, epsilon=0.2, gamma=0.001, kernel=linear;, score=0.996 total time=   0.0s\n",
      "[CV 2/5] END C=1, epsilon=0.2, gamma=0.001, kernel=linear;, score=0.996 total time=   0.0s\n",
      "[CV 3/5] END C=1, epsilon=0.2, gamma=0.001, kernel=linear;, score=0.997 total time=   0.0s\n",
      "[CV 4/5] END C=1, epsilon=0.2, gamma=0.001, kernel=linear;, score=0.997 total time=   0.0s\n",
      "[CV 5/5] END C=1, epsilon=0.2, gamma=0.001, kernel=linear;, score=0.996 total time=   0.0s\n",
      "[CV 1/5] END C=1, epsilon=0.2, gamma=0.0001, kernel=linear;, score=0.996 total time=   0.0s\n",
      "[CV 2/5] END C=1, epsilon=0.2, gamma=0.0001, kernel=linear;, score=0.996 total time=   0.0s\n",
      "[CV 3/5] END C=1, epsilon=0.2, gamma=0.0001, kernel=linear;, score=0.997 total time=   0.0s\n",
      "[CV 4/5] END C=1, epsilon=0.2, gamma=0.0001, kernel=linear;, score=0.997 total time=   0.0s\n",
      "[CV 5/5] END C=1, epsilon=0.2, gamma=0.0001, kernel=linear;, score=0.996 total time=   0.0s\n",
      "[CV 1/5] END C=1, epsilon=0.3, gamma=1, kernel=linear;, score=0.996 total time=   0.0s\n",
      "[CV 2/5] END C=1, epsilon=0.3, gamma=1, kernel=linear;, score=0.996 total time=   0.0s\n",
      "[CV 3/5] END C=1, epsilon=0.3, gamma=1, kernel=linear;, score=0.997 total time=   0.0s\n",
      "[CV 4/5] END C=1, epsilon=0.3, gamma=1, kernel=linear;, score=0.997 total time=   0.0s\n",
      "[CV 5/5] END C=1, epsilon=0.3, gamma=1, kernel=linear;, score=0.996 total time=   0.0s\n",
      "[CV 1/5] END C=1, epsilon=0.3, gamma=0.1, kernel=linear;, score=0.996 total time=   0.0s\n",
      "[CV 2/5] END C=1, epsilon=0.3, gamma=0.1, kernel=linear;, score=0.996 total time=   0.0s\n",
      "[CV 3/5] END C=1, epsilon=0.3, gamma=0.1, kernel=linear;, score=0.997 total time=   0.0s\n",
      "[CV 4/5] END C=1, epsilon=0.3, gamma=0.1, kernel=linear;, score=0.997 total time=   0.0s\n",
      "[CV 5/5] END C=1, epsilon=0.3, gamma=0.1, kernel=linear;, score=0.996 total time=   0.0s\n",
      "[CV 1/5] END C=1, epsilon=0.3, gamma=0.01, kernel=linear;, score=0.996 total time=   0.0s\n",
      "[CV 2/5] END C=1, epsilon=0.3, gamma=0.01, kernel=linear;, score=0.996 total time=   0.0s\n",
      "[CV 3/5] END C=1, epsilon=0.3, gamma=0.01, kernel=linear;, score=0.997 total time=   0.0s\n",
      "[CV 4/5] END C=1, epsilon=0.3, gamma=0.01, kernel=linear;, score=0.997 total time=   0.0s\n",
      "[CV 5/5] END C=1, epsilon=0.3, gamma=0.01, kernel=linear;, score=0.996 total time=   0.0s\n",
      "[CV 1/5] END C=1, epsilon=0.3, gamma=0.001, kernel=linear;, score=0.996 total time=   0.0s\n",
      "[CV 2/5] END C=1, epsilon=0.3, gamma=0.001, kernel=linear;, score=0.996 total time=   0.0s\n",
      "[CV 3/5] END C=1, epsilon=0.3, gamma=0.001, kernel=linear;, score=0.997 total time=   0.0s\n",
      "[CV 4/5] END C=1, epsilon=0.3, gamma=0.001, kernel=linear;, score=0.997 total time=   0.0s\n",
      "[CV 5/5] END C=1, epsilon=0.3, gamma=0.001, kernel=linear;, score=0.996 total time=   0.0s\n",
      "[CV 1/5] END C=1, epsilon=0.3, gamma=0.0001, kernel=linear;, score=0.996 total time=   0.0s\n",
      "[CV 2/5] END C=1, epsilon=0.3, gamma=0.0001, kernel=linear;, score=0.996 total time=   0.0s\n",
      "[CV 3/5] END C=1, epsilon=0.3, gamma=0.0001, kernel=linear;, score=0.997 total time=   0.0s\n",
      "[CV 4/5] END C=1, epsilon=0.3, gamma=0.0001, kernel=linear;, score=0.997 total time=   0.0s\n",
      "[CV 5/5] END C=1, epsilon=0.3, gamma=0.0001, kernel=linear;, score=0.996 total time=   0.0s\n",
      "[CV 1/5] END C=10, epsilon=0.1, gamma=1, kernel=linear;, score=0.996 total time=   0.0s\n",
      "[CV 2/5] END C=10, epsilon=0.1, gamma=1, kernel=linear;, score=0.996 total time=   0.0s\n",
      "[CV 3/5] END C=10, epsilon=0.1, gamma=1, kernel=linear;, score=0.997 total time=   0.0s\n",
      "[CV 4/5] END C=10, epsilon=0.1, gamma=1, kernel=linear;, score=0.997 total time=   0.0s\n",
      "[CV 5/5] END C=10, epsilon=0.1, gamma=1, kernel=linear;, score=0.996 total time=   0.0s\n",
      "[CV 1/5] END C=10, epsilon=0.1, gamma=0.1, kernel=linear;, score=0.996 total time=   0.0s\n",
      "[CV 2/5] END C=10, epsilon=0.1, gamma=0.1, kernel=linear;, score=0.996 total time=   0.0s\n",
      "[CV 3/5] END C=10, epsilon=0.1, gamma=0.1, kernel=linear;, score=0.997 total time=   0.0s\n",
      "[CV 4/5] END C=10, epsilon=0.1, gamma=0.1, kernel=linear;, score=0.997 total time=   0.0s\n",
      "[CV 5/5] END C=10, epsilon=0.1, gamma=0.1, kernel=linear;, score=0.996 total time=   0.0s\n",
      "[CV 1/5] END C=10, epsilon=0.1, gamma=0.01, kernel=linear;, score=0.996 total time=   0.0s\n",
      "[CV 2/5] END C=10, epsilon=0.1, gamma=0.01, kernel=linear;, score=0.996 total time=   0.0s\n",
      "[CV 3/5] END C=10, epsilon=0.1, gamma=0.01, kernel=linear;, score=0.997 total time=   0.0s\n",
      "[CV 4/5] END C=10, epsilon=0.1, gamma=0.01, kernel=linear;, score=0.997 total time=   0.0s\n",
      "[CV 5/5] END C=10, epsilon=0.1, gamma=0.01, kernel=linear;, score=0.996 total time=   0.0s\n",
      "[CV 1/5] END C=10, epsilon=0.1, gamma=0.001, kernel=linear;, score=0.996 total time=   0.0s\n",
      "[CV 2/5] END C=10, epsilon=0.1, gamma=0.001, kernel=linear;, score=0.996 total time=   0.0s\n",
      "[CV 3/5] END C=10, epsilon=0.1, gamma=0.001, kernel=linear;, score=0.997 total time=   0.0s\n",
      "[CV 4/5] END C=10, epsilon=0.1, gamma=0.001, kernel=linear;, score=0.997 total time=   0.0s\n",
      "[CV 5/5] END C=10, epsilon=0.1, gamma=0.001, kernel=linear;, score=0.996 total time=   0.0s\n",
      "[CV 1/5] END C=10, epsilon=0.1, gamma=0.0001, kernel=linear;, score=0.996 total time=   0.0s\n",
      "[CV 2/5] END C=10, epsilon=0.1, gamma=0.0001, kernel=linear;, score=0.996 total time=   0.0s\n",
      "[CV 3/5] END C=10, epsilon=0.1, gamma=0.0001, kernel=linear;, score=0.997 total time=   0.0s\n",
      "[CV 4/5] END C=10, epsilon=0.1, gamma=0.0001, kernel=linear;, score=0.997 total time=   0.0s\n",
      "[CV 5/5] END C=10, epsilon=0.1, gamma=0.0001, kernel=linear;, score=0.996 total time=   0.0s\n",
      "[CV 1/5] END C=10, epsilon=0.2, gamma=1, kernel=linear;, score=0.996 total time=   0.0s\n",
      "[CV 2/5] END C=10, epsilon=0.2, gamma=1, kernel=linear;, score=0.996 total time=   0.0s\n",
      "[CV 3/5] END C=10, epsilon=0.2, gamma=1, kernel=linear;, score=0.997 total time=   0.0s\n",
      "[CV 4/5] END C=10, epsilon=0.2, gamma=1, kernel=linear;, score=0.997 total time=   0.0s\n",
      "[CV 5/5] END C=10, epsilon=0.2, gamma=1, kernel=linear;, score=0.996 total time=   0.0s\n",
      "[CV 1/5] END C=10, epsilon=0.2, gamma=0.1, kernel=linear;, score=0.996 total time=   0.0s\n",
      "[CV 2/5] END C=10, epsilon=0.2, gamma=0.1, kernel=linear;, score=0.996 total time=   0.0s\n",
      "[CV 3/5] END C=10, epsilon=0.2, gamma=0.1, kernel=linear;, score=0.997 total time=   0.0s\n",
      "[CV 4/5] END C=10, epsilon=0.2, gamma=0.1, kernel=linear;, score=0.997 total time=   0.0s\n",
      "[CV 5/5] END C=10, epsilon=0.2, gamma=0.1, kernel=linear;, score=0.996 total time=   0.0s\n",
      "[CV 1/5] END C=10, epsilon=0.2, gamma=0.01, kernel=linear;, score=0.996 total time=   0.0s\n",
      "[CV 2/5] END C=10, epsilon=0.2, gamma=0.01, kernel=linear;, score=0.996 total time=   0.0s\n",
      "[CV 3/5] END C=10, epsilon=0.2, gamma=0.01, kernel=linear;, score=0.997 total time=   0.0s\n",
      "[CV 4/5] END C=10, epsilon=0.2, gamma=0.01, kernel=linear;, score=0.997 total time=   0.0s\n",
      "[CV 5/5] END C=10, epsilon=0.2, gamma=0.01, kernel=linear;, score=0.996 total time=   0.0s\n",
      "[CV 1/5] END C=10, epsilon=0.2, gamma=0.001, kernel=linear;, score=0.996 total time=   0.0s\n",
      "[CV 2/5] END C=10, epsilon=0.2, gamma=0.001, kernel=linear;, score=0.996 total time=   0.0s\n",
      "[CV 3/5] END C=10, epsilon=0.2, gamma=0.001, kernel=linear;, score=0.997 total time=   0.0s\n",
      "[CV 4/5] END C=10, epsilon=0.2, gamma=0.001, kernel=linear;, score=0.997 total time=   0.0s\n",
      "[CV 5/5] END C=10, epsilon=0.2, gamma=0.001, kernel=linear;, score=0.996 total time=   0.0s\n",
      "[CV 1/5] END C=10, epsilon=0.2, gamma=0.0001, kernel=linear;, score=0.996 total time=   0.0s\n",
      "[CV 2/5] END C=10, epsilon=0.2, gamma=0.0001, kernel=linear;, score=0.996 total time=   0.0s\n",
      "[CV 3/5] END C=10, epsilon=0.2, gamma=0.0001, kernel=linear;, score=0.997 total time=   0.0s\n",
      "[CV 4/5] END C=10, epsilon=0.2, gamma=0.0001, kernel=linear;, score=0.997 total time=   0.0s\n",
      "[CV 5/5] END C=10, epsilon=0.2, gamma=0.0001, kernel=linear;, score=0.996 total time=   0.0s\n",
      "[CV 1/5] END C=10, epsilon=0.3, gamma=1, kernel=linear;, score=0.996 total time=   0.0s\n",
      "[CV 2/5] END C=10, epsilon=0.3, gamma=1, kernel=linear;, score=0.996 total time=   0.0s\n",
      "[CV 3/5] END C=10, epsilon=0.3, gamma=1, kernel=linear;, score=0.997 total time=   0.0s\n",
      "[CV 4/5] END C=10, epsilon=0.3, gamma=1, kernel=linear;, score=0.997 total time=   0.0s\n",
      "[CV 5/5] END C=10, epsilon=0.3, gamma=1, kernel=linear;, score=0.996 total time=   0.0s\n",
      "[CV 1/5] END C=10, epsilon=0.3, gamma=0.1, kernel=linear;, score=0.996 total time=   0.0s\n",
      "[CV 2/5] END C=10, epsilon=0.3, gamma=0.1, kernel=linear;, score=0.996 total time=   0.0s\n",
      "[CV 3/5] END C=10, epsilon=0.3, gamma=0.1, kernel=linear;, score=0.997 total time=   0.0s\n",
      "[CV 4/5] END C=10, epsilon=0.3, gamma=0.1, kernel=linear;, score=0.997 total time=   0.0s\n",
      "[CV 5/5] END C=10, epsilon=0.3, gamma=0.1, kernel=linear;, score=0.996 total time=   0.0s\n",
      "[CV 1/5] END C=10, epsilon=0.3, gamma=0.01, kernel=linear;, score=0.996 total time=   0.0s\n",
      "[CV 2/5] END C=10, epsilon=0.3, gamma=0.01, kernel=linear;, score=0.996 total time=   0.0s\n",
      "[CV 3/5] END C=10, epsilon=0.3, gamma=0.01, kernel=linear;, score=0.997 total time=   0.0s\n",
      "[CV 4/5] END C=10, epsilon=0.3, gamma=0.01, kernel=linear;, score=0.997 total time=   0.0s\n",
      "[CV 5/5] END C=10, epsilon=0.3, gamma=0.01, kernel=linear;, score=0.996 total time=   0.0s\n",
      "[CV 1/5] END C=10, epsilon=0.3, gamma=0.001, kernel=linear;, score=0.996 total time=   0.0s\n",
      "[CV 2/5] END C=10, epsilon=0.3, gamma=0.001, kernel=linear;, score=0.996 total time=   0.0s\n",
      "[CV 3/5] END C=10, epsilon=0.3, gamma=0.001, kernel=linear;, score=0.997 total time=   0.0s\n",
      "[CV 4/5] END C=10, epsilon=0.3, gamma=0.001, kernel=linear;, score=0.997 total time=   0.0s\n",
      "[CV 5/5] END C=10, epsilon=0.3, gamma=0.001, kernel=linear;, score=0.996 total time=   0.0s\n",
      "[CV 1/5] END C=10, epsilon=0.3, gamma=0.0001, kernel=linear;, score=0.996 total time=   0.0s\n",
      "[CV 2/5] END C=10, epsilon=0.3, gamma=0.0001, kernel=linear;, score=0.996 total time=   0.0s\n",
      "[CV 3/5] END C=10, epsilon=0.3, gamma=0.0001, kernel=linear;, score=0.997 total time=   0.0s\n",
      "[CV 4/5] END C=10, epsilon=0.3, gamma=0.0001, kernel=linear;, score=0.997 total time=   0.0s\n",
      "[CV 5/5] END C=10, epsilon=0.3, gamma=0.0001, kernel=linear;, score=0.996 total time=   0.0s\n",
      "[CV 1/5] END C=100, epsilon=0.1, gamma=1, kernel=linear;, score=0.996 total time=   0.1s\n",
      "[CV 2/5] END C=100, epsilon=0.1, gamma=1, kernel=linear;, score=0.996 total time=   0.2s\n",
      "[CV 3/5] END C=100, epsilon=0.1, gamma=1, kernel=linear;, score=0.997 total time=   0.1s\n",
      "[CV 4/5] END C=100, epsilon=0.1, gamma=1, kernel=linear;, score=0.997 total time=   0.1s\n",
      "[CV 5/5] END C=100, epsilon=0.1, gamma=1, kernel=linear;, score=0.996 total time=   0.1s\n",
      "[CV 1/5] END C=100, epsilon=0.1, gamma=0.1, kernel=linear;, score=0.996 total time=   0.1s\n",
      "[CV 2/5] END C=100, epsilon=0.1, gamma=0.1, kernel=linear;, score=0.996 total time=   0.1s\n",
      "[CV 3/5] END C=100, epsilon=0.1, gamma=0.1, kernel=linear;, score=0.997 total time=   0.2s\n",
      "[CV 4/5] END C=100, epsilon=0.1, gamma=0.1, kernel=linear;, score=0.997 total time=   0.1s\n",
      "[CV 5/5] END C=100, epsilon=0.1, gamma=0.1, kernel=linear;, score=0.996 total time=   0.2s\n",
      "[CV 1/5] END C=100, epsilon=0.1, gamma=0.01, kernel=linear;, score=0.996 total time=   0.1s\n",
      "[CV 2/5] END C=100, epsilon=0.1, gamma=0.01, kernel=linear;, score=0.996 total time=   0.1s\n",
      "[CV 3/5] END C=100, epsilon=0.1, gamma=0.01, kernel=linear;, score=0.997 total time=   0.1s\n",
      "[CV 4/5] END C=100, epsilon=0.1, gamma=0.01, kernel=linear;, score=0.997 total time=   0.1s\n",
      "[CV 5/5] END C=100, epsilon=0.1, gamma=0.01, kernel=linear;, score=0.996 total time=   0.1s\n",
      "[CV 1/5] END C=100, epsilon=0.1, gamma=0.001, kernel=linear;, score=0.996 total time=   0.1s\n",
      "[CV 2/5] END C=100, epsilon=0.1, gamma=0.001, kernel=linear;, score=0.996 total time=   0.1s\n",
      "[CV 3/5] END C=100, epsilon=0.1, gamma=0.001, kernel=linear;, score=0.997 total time=   0.1s\n",
      "[CV 4/5] END C=100, epsilon=0.1, gamma=0.001, kernel=linear;, score=0.997 total time=   0.1s\n",
      "[CV 5/5] END C=100, epsilon=0.1, gamma=0.001, kernel=linear;, score=0.996 total time=   0.1s\n",
      "[CV 1/5] END C=100, epsilon=0.1, gamma=0.0001, kernel=linear;, score=0.996 total time=   0.1s\n",
      "[CV 2/5] END C=100, epsilon=0.1, gamma=0.0001, kernel=linear;, score=0.996 total time=   0.1s\n",
      "[CV 3/5] END C=100, epsilon=0.1, gamma=0.0001, kernel=linear;, score=0.997 total time=   0.1s\n",
      "[CV 4/5] END C=100, epsilon=0.1, gamma=0.0001, kernel=linear;, score=0.997 total time=   0.1s\n",
      "[CV 5/5] END C=100, epsilon=0.1, gamma=0.0001, kernel=linear;, score=0.996 total time=   0.1s\n",
      "[CV 1/5] END C=100, epsilon=0.2, gamma=1, kernel=linear;, score=0.996 total time=   0.1s\n",
      "[CV 2/5] END C=100, epsilon=0.2, gamma=1, kernel=linear;, score=0.996 total time=   0.2s\n",
      "[CV 3/5] END C=100, epsilon=0.2, gamma=1, kernel=linear;, score=0.997 total time=   0.1s\n",
      "[CV 4/5] END C=100, epsilon=0.2, gamma=1, kernel=linear;, score=0.997 total time=   0.1s\n",
      "[CV 5/5] END C=100, epsilon=0.2, gamma=1, kernel=linear;, score=0.996 total time=   0.1s\n",
      "[CV 1/5] END C=100, epsilon=0.2, gamma=0.1, kernel=linear;, score=0.996 total time=   0.1s\n",
      "[CV 2/5] END C=100, epsilon=0.2, gamma=0.1, kernel=linear;, score=0.996 total time=   0.1s\n",
      "[CV 3/5] END C=100, epsilon=0.2, gamma=0.1, kernel=linear;, score=0.997 total time=   0.1s\n",
      "[CV 4/5] END C=100, epsilon=0.2, gamma=0.1, kernel=linear;, score=0.997 total time=   0.1s\n",
      "[CV 5/5] END C=100, epsilon=0.2, gamma=0.1, kernel=linear;, score=0.996 total time=   0.1s\n",
      "[CV 1/5] END C=100, epsilon=0.2, gamma=0.01, kernel=linear;, score=0.996 total time=   0.1s\n",
      "[CV 2/5] END C=100, epsilon=0.2, gamma=0.01, kernel=linear;, score=0.996 total time=   0.1s\n",
      "[CV 3/5] END C=100, epsilon=0.2, gamma=0.01, kernel=linear;, score=0.997 total time=   0.1s\n",
      "[CV 4/5] END C=100, epsilon=0.2, gamma=0.01, kernel=linear;, score=0.997 total time=   0.1s\n",
      "[CV 5/5] END C=100, epsilon=0.2, gamma=0.01, kernel=linear;, score=0.996 total time=   0.1s\n",
      "[CV 1/5] END C=100, epsilon=0.2, gamma=0.001, kernel=linear;, score=0.996 total time=   0.1s\n",
      "[CV 2/5] END C=100, epsilon=0.2, gamma=0.001, kernel=linear;, score=0.996 total time=   0.1s\n",
      "[CV 3/5] END C=100, epsilon=0.2, gamma=0.001, kernel=linear;, score=0.997 total time=   0.1s\n",
      "[CV 4/5] END C=100, epsilon=0.2, gamma=0.001, kernel=linear;, score=0.997 total time=   0.1s\n",
      "[CV 5/5] END C=100, epsilon=0.2, gamma=0.001, kernel=linear;, score=0.996 total time=   0.1s\n",
      "[CV 1/5] END C=100, epsilon=0.2, gamma=0.0001, kernel=linear;, score=0.996 total time=   0.1s\n",
      "[CV 2/5] END C=100, epsilon=0.2, gamma=0.0001, kernel=linear;, score=0.996 total time=   0.1s\n",
      "[CV 3/5] END C=100, epsilon=0.2, gamma=0.0001, kernel=linear;, score=0.997 total time=   0.1s\n",
      "[CV 4/5] END C=100, epsilon=0.2, gamma=0.0001, kernel=linear;, score=0.997 total time=   0.1s\n",
      "[CV 5/5] END C=100, epsilon=0.2, gamma=0.0001, kernel=linear;, score=0.996 total time=   0.1s\n",
      "[CV 1/5] END C=100, epsilon=0.3, gamma=1, kernel=linear;, score=0.996 total time=   0.1s\n",
      "[CV 2/5] END C=100, epsilon=0.3, gamma=1, kernel=linear;, score=0.996 total time=   0.1s\n",
      "[CV 3/5] END C=100, epsilon=0.3, gamma=1, kernel=linear;, score=0.997 total time=   0.1s\n",
      "[CV 4/5] END C=100, epsilon=0.3, gamma=1, kernel=linear;, score=0.997 total time=   0.1s\n",
      "[CV 5/5] END C=100, epsilon=0.3, gamma=1, kernel=linear;, score=0.996 total time=   0.1s\n",
      "[CV 1/5] END C=100, epsilon=0.3, gamma=0.1, kernel=linear;, score=0.996 total time=   0.1s\n",
      "[CV 2/5] END C=100, epsilon=0.3, gamma=0.1, kernel=linear;, score=0.996 total time=   0.1s\n",
      "[CV 3/5] END C=100, epsilon=0.3, gamma=0.1, kernel=linear;, score=0.997 total time=   0.1s\n",
      "[CV 4/5] END C=100, epsilon=0.3, gamma=0.1, kernel=linear;, score=0.997 total time=   0.1s\n",
      "[CV 5/5] END C=100, epsilon=0.3, gamma=0.1, kernel=linear;, score=0.996 total time=   0.1s\n",
      "[CV 1/5] END C=100, epsilon=0.3, gamma=0.01, kernel=linear;, score=0.996 total time=   0.1s\n",
      "[CV 2/5] END C=100, epsilon=0.3, gamma=0.01, kernel=linear;, score=0.996 total time=   0.2s\n",
      "[CV 3/5] END C=100, epsilon=0.3, gamma=0.01, kernel=linear;, score=0.997 total time=   0.1s\n",
      "[CV 4/5] END C=100, epsilon=0.3, gamma=0.01, kernel=linear;, score=0.997 total time=   0.1s\n",
      "[CV 5/5] END C=100, epsilon=0.3, gamma=0.01, kernel=linear;, score=0.996 total time=   0.1s\n",
      "[CV 1/5] END C=100, epsilon=0.3, gamma=0.001, kernel=linear;, score=0.996 total time=   0.1s\n",
      "[CV 2/5] END C=100, epsilon=0.3, gamma=0.001, kernel=linear;, score=0.996 total time=   0.1s\n",
      "[CV 3/5] END C=100, epsilon=0.3, gamma=0.001, kernel=linear;, score=0.997 total time=   0.1s\n",
      "[CV 4/5] END C=100, epsilon=0.3, gamma=0.001, kernel=linear;, score=0.997 total time=   0.1s\n",
      "[CV 5/5] END C=100, epsilon=0.3, gamma=0.001, kernel=linear;, score=0.996 total time=   0.2s\n",
      "[CV 1/5] END C=100, epsilon=0.3, gamma=0.0001, kernel=linear;, score=0.996 total time=   0.3s\n",
      "[CV 2/5] END C=100, epsilon=0.3, gamma=0.0001, kernel=linear;, score=0.996 total time=   0.1s\n",
      "[CV 3/5] END C=100, epsilon=0.3, gamma=0.0001, kernel=linear;, score=0.997 total time=   0.1s\n",
      "[CV 4/5] END C=100, epsilon=0.3, gamma=0.0001, kernel=linear;, score=0.997 total time=   0.1s\n",
      "[CV 5/5] END C=100, epsilon=0.3, gamma=0.0001, kernel=linear;, score=0.996 total time=   0.1s\n",
      "[CV 1/5] END C=1000, epsilon=0.1, gamma=1, kernel=linear;, score=0.996 total time=   0.9s\n",
      "[CV 2/5] END C=1000, epsilon=0.1, gamma=1, kernel=linear;, score=0.996 total time=   1.0s\n",
      "[CV 3/5] END C=1000, epsilon=0.1, gamma=1, kernel=linear;, score=0.997 total time=   1.1s\n",
      "[CV 4/5] END C=1000, epsilon=0.1, gamma=1, kernel=linear;, score=0.997 total time=   1.0s\n",
      "[CV 5/5] END C=1000, epsilon=0.1, gamma=1, kernel=linear;, score=0.996 total time=   1.0s\n",
      "[CV 1/5] END C=1000, epsilon=0.1, gamma=0.1, kernel=linear;, score=0.996 total time=   0.9s\n",
      "[CV 2/5] END C=1000, epsilon=0.1, gamma=0.1, kernel=linear;, score=0.996 total time=   1.1s\n",
      "[CV 3/5] END C=1000, epsilon=0.1, gamma=0.1, kernel=linear;, score=0.997 total time=   1.1s\n",
      "[CV 4/5] END C=1000, epsilon=0.1, gamma=0.1, kernel=linear;, score=0.997 total time=   1.2s\n",
      "[CV 5/5] END C=1000, epsilon=0.1, gamma=0.1, kernel=linear;, score=0.996 total time=   1.2s\n",
      "[CV 1/5] END C=1000, epsilon=0.1, gamma=0.01, kernel=linear;, score=0.996 total time=   0.8s\n",
      "[CV 2/5] END C=1000, epsilon=0.1, gamma=0.01, kernel=linear;, score=0.996 total time=   0.8s\n",
      "[CV 3/5] END C=1000, epsilon=0.1, gamma=0.01, kernel=linear;, score=0.997 total time=   0.9s\n",
      "[CV 4/5] END C=1000, epsilon=0.1, gamma=0.01, kernel=linear;, score=0.997 total time=   1.1s\n",
      "[CV 5/5] END C=1000, epsilon=0.1, gamma=0.01, kernel=linear;, score=0.996 total time=   1.0s\n",
      "[CV 1/5] END C=1000, epsilon=0.1, gamma=0.001, kernel=linear;, score=0.996 total time=   1.2s\n",
      "[CV 2/5] END C=1000, epsilon=0.1, gamma=0.001, kernel=linear;, score=0.996 total time=   1.3s\n",
      "[CV 3/5] END C=1000, epsilon=0.1, gamma=0.001, kernel=linear;, score=0.997 total time=   1.0s\n",
      "[CV 4/5] END C=1000, epsilon=0.1, gamma=0.001, kernel=linear;, score=0.997 total time=   0.9s\n",
      "[CV 5/5] END C=1000, epsilon=0.1, gamma=0.001, kernel=linear;, score=0.996 total time=   1.0s\n",
      "[CV 1/5] END C=1000, epsilon=0.1, gamma=0.0001, kernel=linear;, score=0.996 total time=   1.2s\n",
      "[CV 2/5] END C=1000, epsilon=0.1, gamma=0.0001, kernel=linear;, score=0.996 total time=   0.9s\n",
      "[CV 3/5] END C=1000, epsilon=0.1, gamma=0.0001, kernel=linear;, score=0.997 total time=   1.0s\n",
      "[CV 4/5] END C=1000, epsilon=0.1, gamma=0.0001, kernel=linear;, score=0.997 total time=   1.1s\n",
      "[CV 5/5] END C=1000, epsilon=0.1, gamma=0.0001, kernel=linear;, score=0.996 total time=   0.9s\n",
      "[CV 1/5] END C=1000, epsilon=0.2, gamma=1, kernel=linear;, score=0.996 total time=   0.9s\n",
      "[CV 2/5] END C=1000, epsilon=0.2, gamma=1, kernel=linear;, score=0.996 total time=   1.2s\n",
      "[CV 3/5] END C=1000, epsilon=0.2, gamma=1, kernel=linear;, score=0.997 total time=   1.2s\n",
      "[CV 4/5] END C=1000, epsilon=0.2, gamma=1, kernel=linear;, score=0.997 total time=   1.3s\n",
      "[CV 5/5] END C=1000, epsilon=0.2, gamma=1, kernel=linear;, score=0.996 total time=   1.1s\n",
      "[CV 1/5] END C=1000, epsilon=0.2, gamma=0.1, kernel=linear;, score=0.996 total time=   0.7s\n",
      "[CV 2/5] END C=1000, epsilon=0.2, gamma=0.1, kernel=linear;, score=0.996 total time=   1.0s\n",
      "[CV 3/5] END C=1000, epsilon=0.2, gamma=0.1, kernel=linear;, score=0.997 total time=   1.0s\n",
      "[CV 4/5] END C=1000, epsilon=0.2, gamma=0.1, kernel=linear;, score=0.997 total time=   0.8s\n",
      "[CV 5/5] END C=1000, epsilon=0.2, gamma=0.1, kernel=linear;, score=0.996 total time=   1.3s\n",
      "[CV 1/5] END C=1000, epsilon=0.2, gamma=0.01, kernel=linear;, score=0.996 total time=   0.8s\n",
      "[CV 2/5] END C=1000, epsilon=0.2, gamma=0.01, kernel=linear;, score=0.996 total time=   1.1s\n",
      "[CV 3/5] END C=1000, epsilon=0.2, gamma=0.01, kernel=linear;, score=0.997 total time=   1.2s\n",
      "[CV 4/5] END C=1000, epsilon=0.2, gamma=0.01, kernel=linear;, score=0.997 total time=   0.9s\n",
      "[CV 5/5] END C=1000, epsilon=0.2, gamma=0.01, kernel=linear;, score=0.996 total time=   1.0s\n",
      "[CV 1/5] END C=1000, epsilon=0.2, gamma=0.001, kernel=linear;, score=0.996 total time=   0.8s\n",
      "[CV 2/5] END C=1000, epsilon=0.2, gamma=0.001, kernel=linear;, score=0.996 total time=   1.1s\n",
      "[CV 3/5] END C=1000, epsilon=0.2, gamma=0.001, kernel=linear;, score=0.997 total time=   1.0s\n",
      "[CV 4/5] END C=1000, epsilon=0.2, gamma=0.001, kernel=linear;, score=0.997 total time=   1.1s\n",
      "[CV 5/5] END C=1000, epsilon=0.2, gamma=0.001, kernel=linear;, score=0.996 total time=   1.0s\n",
      "[CV 1/5] END C=1000, epsilon=0.2, gamma=0.0001, kernel=linear;, score=0.996 total time=   0.7s\n",
      "[CV 2/5] END C=1000, epsilon=0.2, gamma=0.0001, kernel=linear;, score=0.996 total time=   0.9s\n",
      "[CV 3/5] END C=1000, epsilon=0.2, gamma=0.0001, kernel=linear;, score=0.997 total time=   0.9s\n",
      "[CV 4/5] END C=1000, epsilon=0.2, gamma=0.0001, kernel=linear;, score=0.997 total time=   0.9s\n",
      "[CV 5/5] END C=1000, epsilon=0.2, gamma=0.0001, kernel=linear;, score=0.996 total time=   1.0s\n",
      "[CV 1/5] END C=1000, epsilon=0.3, gamma=1, kernel=linear;, score=0.996 total time=   0.8s\n",
      "[CV 2/5] END C=1000, epsilon=0.3, gamma=1, kernel=linear;, score=0.996 total time=   1.3s\n",
      "[CV 3/5] END C=1000, epsilon=0.3, gamma=1, kernel=linear;, score=0.997 total time=   0.9s\n",
      "[CV 4/5] END C=1000, epsilon=0.3, gamma=1, kernel=linear;, score=0.997 total time=   0.9s\n",
      "[CV 5/5] END C=1000, epsilon=0.3, gamma=1, kernel=linear;, score=0.996 total time=   1.1s\n",
      "[CV 1/5] END C=1000, epsilon=0.3, gamma=0.1, kernel=linear;, score=0.996 total time=   0.7s\n",
      "[CV 2/5] END C=1000, epsilon=0.3, gamma=0.1, kernel=linear;, score=0.996 total time=   1.2s\n",
      "[CV 3/5] END C=1000, epsilon=0.3, gamma=0.1, kernel=linear;, score=0.997 total time=   0.9s\n",
      "[CV 4/5] END C=1000, epsilon=0.3, gamma=0.1, kernel=linear;, score=0.997 total time=   0.9s\n",
      "[CV 5/5] END C=1000, epsilon=0.3, gamma=0.1, kernel=linear;, score=0.996 total time=   1.1s\n",
      "[CV 1/5] END C=1000, epsilon=0.3, gamma=0.01, kernel=linear;, score=0.996 total time=   1.1s\n",
      "[CV 2/5] END C=1000, epsilon=0.3, gamma=0.01, kernel=linear;, score=0.996 total time=   1.2s\n",
      "[CV 3/5] END C=1000, epsilon=0.3, gamma=0.01, kernel=linear;, score=0.997 total time=   1.0s\n",
      "[CV 4/5] END C=1000, epsilon=0.3, gamma=0.01, kernel=linear;, score=0.997 total time=   0.9s\n",
      "[CV 5/5] END C=1000, epsilon=0.3, gamma=0.01, kernel=linear;, score=0.996 total time=   1.5s\n",
      "[CV 1/5] END C=1000, epsilon=0.3, gamma=0.001, kernel=linear;, score=0.996 total time=   0.7s\n",
      "[CV 2/5] END C=1000, epsilon=0.3, gamma=0.001, kernel=linear;, score=0.996 total time=   1.5s\n",
      "[CV 3/5] END C=1000, epsilon=0.3, gamma=0.001, kernel=linear;, score=0.997 total time=   1.3s\n",
      "[CV 4/5] END C=1000, epsilon=0.3, gamma=0.001, kernel=linear;, score=0.997 total time=   1.0s\n",
      "[CV 5/5] END C=1000, epsilon=0.3, gamma=0.001, kernel=linear;, score=0.996 total time=   1.3s\n",
      "[CV 1/5] END C=1000, epsilon=0.3, gamma=0.0001, kernel=linear;, score=0.996 total time=   1.1s\n",
      "[CV 2/5] END C=1000, epsilon=0.3, gamma=0.0001, kernel=linear;, score=0.996 total time=   1.8s\n",
      "[CV 3/5] END C=1000, epsilon=0.3, gamma=0.0001, kernel=linear;, score=0.997 total time=   1.9s\n",
      "[CV 4/5] END C=1000, epsilon=0.3, gamma=0.0001, kernel=linear;, score=0.997 total time=   1.1s\n",
      "[CV 5/5] END C=1000, epsilon=0.3, gamma=0.0001, kernel=linear;, score=0.996 total time=   1.1s\n"
     ]
    },
    {
     "data": {
      "text/html": [
       "<style>#sk-container-id-2 {color: black;}#sk-container-id-2 pre{padding: 0;}#sk-container-id-2 div.sk-toggleable {background-color: white;}#sk-container-id-2 label.sk-toggleable__label {cursor: pointer;display: block;width: 100%;margin-bottom: 0;padding: 0.3em;box-sizing: border-box;text-align: center;}#sk-container-id-2 label.sk-toggleable__label-arrow:before {content: \"▸\";float: left;margin-right: 0.25em;color: #696969;}#sk-container-id-2 label.sk-toggleable__label-arrow:hover:before {color: black;}#sk-container-id-2 div.sk-estimator:hover label.sk-toggleable__label-arrow:before {color: black;}#sk-container-id-2 div.sk-toggleable__content {max-height: 0;max-width: 0;overflow: hidden;text-align: left;background-color: #f0f8ff;}#sk-container-id-2 div.sk-toggleable__content pre {margin: 0.2em;color: black;border-radius: 0.25em;background-color: #f0f8ff;}#sk-container-id-2 input.sk-toggleable__control:checked~div.sk-toggleable__content {max-height: 200px;max-width: 100%;overflow: auto;}#sk-container-id-2 input.sk-toggleable__control:checked~label.sk-toggleable__label-arrow:before {content: \"▾\";}#sk-container-id-2 div.sk-estimator input.sk-toggleable__control:checked~label.sk-toggleable__label {background-color: #d4ebff;}#sk-container-id-2 div.sk-label input.sk-toggleable__control:checked~label.sk-toggleable__label {background-color: #d4ebff;}#sk-container-id-2 input.sk-hidden--visually {border: 0;clip: rect(1px 1px 1px 1px);clip: rect(1px, 1px, 1px, 1px);height: 1px;margin: -1px;overflow: hidden;padding: 0;position: absolute;width: 1px;}#sk-container-id-2 div.sk-estimator {font-family: monospace;background-color: #f0f8ff;border: 1px dotted black;border-radius: 0.25em;box-sizing: border-box;margin-bottom: 0.5em;}#sk-container-id-2 div.sk-estimator:hover {background-color: #d4ebff;}#sk-container-id-2 div.sk-parallel-item::after {content: \"\";width: 100%;border-bottom: 1px solid gray;flex-grow: 1;}#sk-container-id-2 div.sk-label:hover label.sk-toggleable__label {background-color: #d4ebff;}#sk-container-id-2 div.sk-serial::before {content: \"\";position: absolute;border-left: 1px solid gray;box-sizing: border-box;top: 0;bottom: 0;left: 50%;z-index: 0;}#sk-container-id-2 div.sk-serial {display: flex;flex-direction: column;align-items: center;background-color: white;padding-right: 0.2em;padding-left: 0.2em;position: relative;}#sk-container-id-2 div.sk-item {position: relative;z-index: 1;}#sk-container-id-2 div.sk-parallel {display: flex;align-items: stretch;justify-content: center;background-color: white;position: relative;}#sk-container-id-2 div.sk-item::before, #sk-container-id-2 div.sk-parallel-item::before {content: \"\";position: absolute;border-left: 1px solid gray;box-sizing: border-box;top: 0;bottom: 0;left: 50%;z-index: -1;}#sk-container-id-2 div.sk-parallel-item {display: flex;flex-direction: column;z-index: 1;position: relative;background-color: white;}#sk-container-id-2 div.sk-parallel-item:first-child::after {align-self: flex-end;width: 50%;}#sk-container-id-2 div.sk-parallel-item:last-child::after {align-self: flex-start;width: 50%;}#sk-container-id-2 div.sk-parallel-item:only-child::after {width: 0;}#sk-container-id-2 div.sk-dashed-wrapped {border: 1px dashed gray;margin: 0 0.4em 0.5em 0.4em;box-sizing: border-box;padding-bottom: 0.4em;background-color: white;}#sk-container-id-2 div.sk-label label {font-family: monospace;font-weight: bold;display: inline-block;line-height: 1.2em;}#sk-container-id-2 div.sk-label-container {text-align: center;}#sk-container-id-2 div.sk-container {/* jupyter's `normalize.less` sets `[hidden] { display: none; }` but bootstrap.min.css set `[hidden] { display: none !important; }` so we also need the `!important` here to be able to override the default hidden behavior on the sphinx rendered scikit-learn.org. See: https://github.com/scikit-learn/scikit-learn/issues/21755 */display: inline-block !important;position: relative;}#sk-container-id-2 div.sk-text-repr-fallback {display: none;}</style><div id=\"sk-container-id-2\" class=\"sk-top-container\"><div class=\"sk-text-repr-fallback\"><pre>GridSearchCV(cv=5, estimator=SVR(),\n",
       "             param_grid={&#x27;C&#x27;: [0.1, 1, 10, 100, 1000],\n",
       "                         &#x27;epsilon&#x27;: [0.1, 0.2, 0.3],\n",
       "                         &#x27;gamma&#x27;: [1, 0.1, 0.01, 0.001, 0.0001],\n",
       "                         &#x27;kernel&#x27;: [&#x27;linear&#x27;]},\n",
       "             verbose=3)</pre><b>In a Jupyter environment, please rerun this cell to show the HTML representation or trust the notebook. <br />On GitHub, the HTML representation is unable to render, please try loading this page with nbviewer.org.</b></div><div class=\"sk-container\" hidden><div class=\"sk-item sk-dashed-wrapped\"><div class=\"sk-label-container\"><div class=\"sk-label sk-toggleable\"><input class=\"sk-toggleable__control sk-hidden--visually\" id=\"sk-estimator-id-2\" type=\"checkbox\" ><label for=\"sk-estimator-id-2\" class=\"sk-toggleable__label sk-toggleable__label-arrow\">GridSearchCV</label><div class=\"sk-toggleable__content\"><pre>GridSearchCV(cv=5, estimator=SVR(),\n",
       "             param_grid={&#x27;C&#x27;: [0.1, 1, 10, 100, 1000],\n",
       "                         &#x27;epsilon&#x27;: [0.1, 0.2, 0.3],\n",
       "                         &#x27;gamma&#x27;: [1, 0.1, 0.01, 0.001, 0.0001],\n",
       "                         &#x27;kernel&#x27;: [&#x27;linear&#x27;]},\n",
       "             verbose=3)</pre></div></div></div><div class=\"sk-parallel\"><div class=\"sk-parallel-item\"><div class=\"sk-item\"><div class=\"sk-label-container\"><div class=\"sk-label sk-toggleable\"><input class=\"sk-toggleable__control sk-hidden--visually\" id=\"sk-estimator-id-3\" type=\"checkbox\" ><label for=\"sk-estimator-id-3\" class=\"sk-toggleable__label sk-toggleable__label-arrow\">estimator: SVR</label><div class=\"sk-toggleable__content\"><pre>SVR()</pre></div></div></div><div class=\"sk-serial\"><div class=\"sk-item\"><div class=\"sk-estimator sk-toggleable\"><input class=\"sk-toggleable__control sk-hidden--visually\" id=\"sk-estimator-id-4\" type=\"checkbox\" ><label for=\"sk-estimator-id-4\" class=\"sk-toggleable__label sk-toggleable__label-arrow\">SVR</label><div class=\"sk-toggleable__content\"><pre>SVR()</pre></div></div></div></div></div></div></div></div></div></div>"
      ],
      "text/plain": [
       "GridSearchCV(cv=5, estimator=SVR(),\n",
       "             param_grid={'C': [0.1, 1, 10, 100, 1000],\n",
       "                         'epsilon': [0.1, 0.2, 0.3],\n",
       "                         'gamma': [1, 0.1, 0.01, 0.001, 0.0001],\n",
       "                         'kernel': ['linear']},\n",
       "             verbose=3)"
      ]
     },
     "execution_count": 20,
     "metadata": {},
     "output_type": "execute_result"
    }
   ],
   "source": [
    "grid.fit(X_train,y_train)"
   ]
  },
  {
   "cell_type": "code",
   "execution_count": 21,
   "metadata": {
    "colab": {
     "base_uri": "https://localhost:8080/"
    },
    "executionInfo": {
     "elapsed": 438,
     "status": "ok",
     "timestamp": 1693386232071,
     "user": {
      "displayName": "Vipil Khapre",
      "userId": "11657927420291305997"
     },
     "user_tz": -330
    },
    "id": "aiAhWmiEqIq8",
    "outputId": "824dce68-e429-4788-e842-6ebc502e80d2",
    "tags": []
   },
   "outputs": [
    {
     "data": {
      "text/plain": [
       "{'C': 10, 'epsilon': 0.3, 'gamma': 1, 'kernel': 'linear'}"
      ]
     },
     "execution_count": 21,
     "metadata": {},
     "output_type": "execute_result"
    }
   ],
   "source": [
    "grid.best_params_"
   ]
  },
  {
   "cell_type": "code",
   "execution_count": 22,
   "metadata": {
    "colab": {
     "base_uri": "https://localhost:8080/"
    },
    "executionInfo": {
     "elapsed": 15,
     "status": "ok",
     "timestamp": 1693386235597,
     "user": {
      "displayName": "Vipil Khapre",
      "userId": "11657927420291305997"
     },
     "user_tz": -330
    },
    "id": "m4Xa7ScMqIq9",
    "outputId": "db38dc21-091f-481a-9155-b090bfc9fa5c",
    "tags": []
   },
   "outputs": [
    {
     "name": "stdout",
     "output_type": "stream",
     "text": [
      "0.9966505970756399\n"
     ]
    }
   ],
   "source": [
    "## Prediction\n",
    "y_pred4=grid.predict(X_test)\n",
    "print(r2_score(y_test,y_pred4))"
   ]
  }
 ],
 "metadata": {
  "colab": {
   "provenance": []
  },
  "kernelspec": {
   "display_name": "Python 3 (ipykernel)",
   "language": "python",
   "name": "python3"
  },
  "language_info": {
   "codemirror_mode": {
    "name": "ipython",
    "version": 3
   },
   "file_extension": ".py",
   "mimetype": "text/x-python",
   "name": "python",
   "nbconvert_exporter": "python",
   "pygments_lexer": "ipython3",
   "version": "3.11.5"
  }
 },
 "nbformat": 4,
 "nbformat_minor": 4
}
