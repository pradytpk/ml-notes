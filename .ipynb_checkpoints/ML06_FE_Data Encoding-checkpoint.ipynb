{
 "cells": [
  {
   "cell_type": "markdown",
   "id": "63077e33-bdee-44ed-ac7a-62031c031ff2",
   "metadata": {},
   "source": [
    "# Data Encoding\n",
    "1. Nominal/OHE Encoding\n",
    "2. Label and Ordinal Encoding\n",
    "3. Target Guided Ordinal Encoding"
   ]
  },
  {
   "cell_type": "markdown",
   "id": "0f7813d9-05a1-41c8-af2e-75957e69b6d9",
   "metadata": {},
   "source": [
    "## Nominal/OHE(One Hot) Encoding"
   ]
  },
  {
   "cell_type": "markdown",
   "id": "dc0d05f8-95a8-4c7d-9ab8-23c39820e60d",
   "metadata": {},
   "source": [
    "One-hot encoding is a method used to convert categorical data into a numerical format that can be used in various data analysis and machine learning tasks. It is particularly useful when dealing with categorical variables in datasets.\n",
    "\n",
    "- How One-Hot Encoding Works\n",
    "\n",
    "One-hot encoding works by creating binary (0 or 1) columns for each unique category within a categorical variable. Each binary column represents the presence (1) or absence (0) of a particular category for each data point.\n",
    "\n",
    "For example, if you have a categorical variable \"Color\" with values [\"Red\", \"Blue\", \"Green\"], one-hot encoding will create three binary columns: \"Red,\" \"Blue,\" and \"Green.\" Each data point will have a 1 in the column corresponding to its color and 0s in the other columns.\n",
    "\n",
    "- When to Use One-Hot Encoding\n",
    "\n",
    "One-hot encoding is useful when dealing with categorical data, especially in scenarios like:\n",
    "\n",
    "- Machine learning models that require numerical input.\n",
    "- Preventing ordinality assumptions between categories.\n",
    "- Avoiding bias that might be introduced by assigning numerical values to categories."
   ]
  },
  {
   "cell_type": "code",
   "execution_count": 3,
   "id": "61712385-b2e0-48f7-9184-bcd2fb8f7f69",
   "metadata": {},
   "outputs": [],
   "source": [
    "import pandas as pd\n",
    "from sklearn.preprocessing import OneHotEncoder"
   ]
  },
  {
   "cell_type": "code",
   "execution_count": 24,
   "id": "f58ac6cb-bfa5-47a4-a019-53de40c65d4d",
   "metadata": {},
   "outputs": [
    {
     "data": {
      "text/html": [
       "<div>\n",
       "<style scoped>\n",
       "    .dataframe tbody tr th:only-of-type {\n",
       "        vertical-align: middle;\n",
       "    }\n",
       "\n",
       "    .dataframe tbody tr th {\n",
       "        vertical-align: top;\n",
       "    }\n",
       "\n",
       "    .dataframe thead th {\n",
       "        text-align: right;\n",
       "    }\n",
       "</style>\n",
       "<table border=\"1\" class=\"dataframe\">\n",
       "  <thead>\n",
       "    <tr style=\"text-align: right;\">\n",
       "      <th></th>\n",
       "      <th>color</th>\n",
       "    </tr>\n",
       "  </thead>\n",
       "  <tbody>\n",
       "    <tr>\n",
       "      <th>0</th>\n",
       "      <td>Red</td>\n",
       "    </tr>\n",
       "    <tr>\n",
       "      <th>1</th>\n",
       "      <td>Blue</td>\n",
       "    </tr>\n",
       "    <tr>\n",
       "      <th>2</th>\n",
       "      <td>Green</td>\n",
       "    </tr>\n",
       "    <tr>\n",
       "      <th>3</th>\n",
       "      <td>Red</td>\n",
       "    </tr>\n",
       "  </tbody>\n",
       "</table>\n",
       "</div>"
      ],
      "text/plain": [
       "   color\n",
       "0    Red\n",
       "1   Blue\n",
       "2  Green\n",
       "3    Red"
      ]
     },
     "execution_count": 24,
     "metadata": {},
     "output_type": "execute_result"
    }
   ],
   "source": [
    "# Sample dataset with a categorical column \"Color\"\n",
    "data = {'color': ['Red', 'Blue', 'Green', 'Red']}\n",
    "df = pd.DataFrame(data)\n",
    "df"
   ]
  },
  {
   "cell_type": "code",
   "execution_count": 5,
   "id": "a03076c6-6712-403d-b8e1-c77493b7ff9f",
   "metadata": {},
   "outputs": [],
   "source": [
    "## Create an instance of OneHotencoder"
   ]
  },
  {
   "cell_type": "code",
   "execution_count": 9,
   "id": "4323801b-8af8-44e5-8f8e-4f920dd7c4b3",
   "metadata": {},
   "outputs": [],
   "source": [
    "encoder = OneHotEncoder()"
   ]
  },
  {
   "cell_type": "code",
   "execution_count": 15,
   "id": "e3eea5f5-5ea1-428e-8098-c1ef2c1a4b2e",
   "metadata": {},
   "outputs": [],
   "source": [
    "## Perform fit and transformabs\n",
    "encoded= encoder.fit_transform(df[['Color']]).toarray()"
   ]
  },
  {
   "cell_type": "code",
   "execution_count": 17,
   "id": "cea97a0d-0e03-4a73-a113-30f3e7f260be",
   "metadata": {},
   "outputs": [],
   "source": [
    "encoded_df=pd.DataFrame(encoded,columns=encoder.get_feature_names_out())"
   ]
  },
  {
   "cell_type": "code",
   "execution_count": 18,
   "id": "07fdf429-43e5-4171-9929-6367e9062318",
   "metadata": {},
   "outputs": [
    {
     "data": {
      "text/html": [
       "<div>\n",
       "<style scoped>\n",
       "    .dataframe tbody tr th:only-of-type {\n",
       "        vertical-align: middle;\n",
       "    }\n",
       "\n",
       "    .dataframe tbody tr th {\n",
       "        vertical-align: top;\n",
       "    }\n",
       "\n",
       "    .dataframe thead th {\n",
       "        text-align: right;\n",
       "    }\n",
       "</style>\n",
       "<table border=\"1\" class=\"dataframe\">\n",
       "  <thead>\n",
       "    <tr style=\"text-align: right;\">\n",
       "      <th></th>\n",
       "      <th>Color_Blue</th>\n",
       "      <th>Color_Green</th>\n",
       "      <th>Color_Red</th>\n",
       "    </tr>\n",
       "  </thead>\n",
       "  <tbody>\n",
       "    <tr>\n",
       "      <th>0</th>\n",
       "      <td>0.0</td>\n",
       "      <td>0.0</td>\n",
       "      <td>1.0</td>\n",
       "    </tr>\n",
       "    <tr>\n",
       "      <th>1</th>\n",
       "      <td>1.0</td>\n",
       "      <td>0.0</td>\n",
       "      <td>0.0</td>\n",
       "    </tr>\n",
       "    <tr>\n",
       "      <th>2</th>\n",
       "      <td>0.0</td>\n",
       "      <td>1.0</td>\n",
       "      <td>0.0</td>\n",
       "    </tr>\n",
       "    <tr>\n",
       "      <th>3</th>\n",
       "      <td>0.0</td>\n",
       "      <td>0.0</td>\n",
       "      <td>1.0</td>\n",
       "    </tr>\n",
       "  </tbody>\n",
       "</table>\n",
       "</div>"
      ],
      "text/plain": [
       "   Color_Blue  Color_Green  Color_Red\n",
       "0         0.0          0.0        1.0\n",
       "1         1.0          0.0        0.0\n",
       "2         0.0          1.0        0.0\n",
       "3         0.0          0.0        1.0"
      ]
     },
     "execution_count": 18,
     "metadata": {},
     "output_type": "execute_result"
    }
   ],
   "source": [
    "encoded_df"
   ]
  },
  {
   "cell_type": "code",
   "execution_count": 20,
   "id": "91779e7b-a902-48e6-af04-c3bc751bb9ea",
   "metadata": {},
   "outputs": [
    {
     "name": "stderr",
     "output_type": "stream",
     "text": [
      "C:\\Users\\USER\\AppData\\Local\\Programs\\Python\\Python312\\Lib\\site-packages\\sklearn\\base.py:493: UserWarning: X does not have valid feature names, but OneHotEncoder was fitted with feature names\n",
      "  warnings.warn(\n"
     ]
    },
    {
     "data": {
      "text/plain": [
       "array([[0., 1., 0.]])"
      ]
     },
     "execution_count": 20,
     "metadata": {},
     "output_type": "execute_result"
    }
   ],
   "source": [
    "encoder.transform([['Green']]).toarray()"
   ]
  },
  {
   "cell_type": "markdown",
   "id": "7cc46023-ec0d-4ff8-8af1-6699d6860801",
   "metadata": {},
   "source": [
    "## Label Encoding\n",
    "Label encoding is a method used to convert categorical data into numerical values. It assigns a unique integer or label to each category within a categorical variable, effectively converting it into a numerical format.\n"
   ]
  },
  {
   "cell_type": "markdown",
   "id": "0e411733-2715-45d1-b51d-bf0d2df8a9e8",
   "metadata": {},
   "source": [
    "\n",
    "-  How Label Encoding Works\n",
    "\n",
    "Label encoding works by mapping each category to a unique integer. The integers are typically assigned in ascending order, starting from 0 or 1, depending on the implementation. The order of assignment can sometimes impact the performance of machine learning algorithms, so it's essential to be aware of this.\n",
    "\n",
    "For example, if you have a categorical variable \"Size\" with values [\"Small\", \"Medium\", \"Large\"], label encoding might assign the following labels: {\"Small\": 0, \"Medium\": 1, \"Large\": 2}.\n",
    "\n",
    "-  When to Use Label Encoding\n",
    "\n",
    "Label encoding is suitable for scenarios where:\n",
    "\n",
    "- The categorical variable has an ordinal relationship, meaning there's a meaningful order or ranking among categories (e.g., \"Low,\" \"Medium,\" \"High\").\n",
    "- The machine learning algorithm used can work with ordinal data.\n",
    "- You want to reduce the dimensionality of your dataset compared to one-hot encoding.\n"
   ]
  },
  {
   "cell_type": "code",
   "execution_count": 23,
   "id": "e9d31d1d-3851-42ed-877a-c302d5f85726",
   "metadata": {},
   "outputs": [],
   "source": [
    "from  sklearn.preprocessing import LabelEncoder\n",
    "lbl_encoder=LabelEncoder()"
   ]
  },
  {
   "cell_type": "code",
   "execution_count": 25,
   "id": "6ae274da-b028-4ca1-88d6-7eec9bf85885",
   "metadata": {},
   "outputs": [
    {
     "name": "stderr",
     "output_type": "stream",
     "text": [
      "C:\\Users\\USER\\AppData\\Local\\Programs\\Python\\Python312\\Lib\\site-packages\\sklearn\\preprocessing\\_label.py:114: DataConversionWarning: A column-vector y was passed when a 1d array was expected. Please change the shape of y to (n_samples, ), for example using ravel().\n",
      "  y = column_or_1d(y, warn=True)\n"
     ]
    },
    {
     "data": {
      "text/plain": [
       "array([2, 0, 1, 2])"
      ]
     },
     "execution_count": 25,
     "metadata": {},
     "output_type": "execute_result"
    }
   ],
   "source": [
    "lbl_encoder.fit_transform(df[['color']])"
   ]
  },
  {
   "cell_type": "code",
   "execution_count": 27,
   "id": "578050a9-65bb-4e53-9da3-af7ba5943ff3",
   "metadata": {},
   "outputs": [
    {
     "name": "stderr",
     "output_type": "stream",
     "text": [
      "C:\\Users\\USER\\AppData\\Local\\Programs\\Python\\Python312\\Lib\\site-packages\\sklearn\\preprocessing\\_label.py:132: DataConversionWarning: A column-vector y was passed when a 1d array was expected. Please change the shape of y to (n_samples, ), for example using ravel().\n",
      "  y = column_or_1d(y, dtype=self.classes_.dtype, warn=True)\n"
     ]
    },
    {
     "data": {
      "text/plain": [
       "array([2])"
      ]
     },
     "execution_count": 27,
     "metadata": {},
     "output_type": "execute_result"
    }
   ],
   "source": [
    "lbl_encoder.transform([['Red']])"
   ]
  },
  {
   "cell_type": "code",
   "execution_count": 28,
   "id": "6112cb3f-4934-468b-bb4e-d4db8e793f4d",
   "metadata": {},
   "outputs": [
    {
     "name": "stderr",
     "output_type": "stream",
     "text": [
      "C:\\Users\\USER\\AppData\\Local\\Programs\\Python\\Python312\\Lib\\site-packages\\sklearn\\preprocessing\\_label.py:132: DataConversionWarning: A column-vector y was passed when a 1d array was expected. Please change the shape of y to (n_samples, ), for example using ravel().\n",
      "  y = column_or_1d(y, dtype=self.classes_.dtype, warn=True)\n"
     ]
    },
    {
     "data": {
      "text/plain": [
       "array([0])"
      ]
     },
     "execution_count": 28,
     "metadata": {},
     "output_type": "execute_result"
    }
   ],
   "source": [
    "lbl_encoder.transform([['Blue']])"
   ]
  },
  {
   "cell_type": "code",
   "execution_count": 29,
   "id": "9ef8bb61-971a-4d99-940e-87d4c534a994",
   "metadata": {},
   "outputs": [
    {
     "name": "stderr",
     "output_type": "stream",
     "text": [
      "C:\\Users\\USER\\AppData\\Local\\Programs\\Python\\Python312\\Lib\\site-packages\\sklearn\\preprocessing\\_label.py:132: DataConversionWarning: A column-vector y was passed when a 1d array was expected. Please change the shape of y to (n_samples, ), for example using ravel().\n",
      "  y = column_or_1d(y, dtype=self.classes_.dtype, warn=True)\n"
     ]
    },
    {
     "data": {
      "text/plain": [
       "array([1])"
      ]
     },
     "execution_count": 29,
     "metadata": {},
     "output_type": "execute_result"
    }
   ],
   "source": [
    "lbl_encoder.transform([['Green']])"
   ]
  },
  {
   "cell_type": "markdown",
   "id": "8afca207-2949-4a04-ad03-48da02231b3e",
   "metadata": {},
   "source": [
    "### Ordinal Encoding"
   ]
  },
  {
   "cell_type": "markdown",
   "id": "c2d14cc0-e6a3-4514-927a-4fa42ce4433e",
   "metadata": {},
   "source": [
    "Ordinal encoding is a method used to convert categorical data with a meaningful order or rank into numerical values. It assigns a unique integer or label to each category while preserving the ordinal relationship between them.\n",
    "**How Ordinal Encoding Works**\n",
    "\n",
    "Ordinal encoding works by mapping each category to a unique integer based on the predefined order or ranking of the categories. This mapping can be done manually by specifying the order or using automated methods based on the observed frequency of each category.\n",
    "\n",
    "For example, if you have a categorical variable \"Education Level\" with values [\"High School\", \"Bachelor's Degree\", \"Master's Degree\", \"Ph.D.\"], ordinal encoding might assign the following labels: {\"High School\": 0, \"Bachelor's Degree\": 1, \"Master's Degree\": 2, \"Ph.D.\": 3}.\n",
    "\n",
    "**When to Use Ordinal Encoding**\n",
    "\n",
    "**Ordinal encoding is suitable for scenarios where:**\n",
    "\n",
    "- The categorical variable has a clear and meaningful order or ranking among categories.\n",
    "- The machine learning algorithm used can work with ordinal data.\n",
    "- You want to represent the ordinal relationship efficiently without introducing high dimensionality as in one-hot encoding.\n"
   ]
  },
  {
   "cell_type": "code",
   "execution_count": 32,
   "id": "26e1b520-7ab7-415d-b0ce-e56894608abc",
   "metadata": {},
   "outputs": [],
   "source": [
    "from sklearn.preprocessing import OrdinalEncoder"
   ]
  },
  {
   "cell_type": "code",
   "execution_count": 41,
   "id": "bff58417-edf8-4265-9bf8-d077f6c61cd8",
   "metadata": {},
   "outputs": [],
   "source": [
    "# Sample dataset with a categorical column \"Education Level\"\n",
    "data = {'Education Level': ['Bachelor\\'s Degree', 'Master\\'s Degree', 'High School', 'Ph.D.']}\n",
    "df = pd.DataFrame(data)\n",
    "\n",
    "# Define the ordinal mapping\n",
    "education_mapping = {\n",
    "    \"High School\": 0,\n",
    "    \"Bachelor's Degree\": 1,\n",
    "    \"Master's Degree\": 2,\n",
    "    \"Ph.D.\": 3\n",
    "}"
   ]
  },
  {
   "cell_type": "code",
   "execution_count": 40,
   "id": "c3f01ec5-05a9-4cf3-a2a5-5e93986a32f1",
   "metadata": {},
   "outputs": [
    {
     "data": {
      "text/html": [
       "<div>\n",
       "<style scoped>\n",
       "    .dataframe tbody tr th:only-of-type {\n",
       "        vertical-align: middle;\n",
       "    }\n",
       "\n",
       "    .dataframe tbody tr th {\n",
       "        vertical-align: top;\n",
       "    }\n",
       "\n",
       "    .dataframe thead th {\n",
       "        text-align: right;\n",
       "    }\n",
       "</style>\n",
       "<table border=\"1\" class=\"dataframe\">\n",
       "  <thead>\n",
       "    <tr style=\"text-align: right;\">\n",
       "      <th></th>\n",
       "      <th>Education Level</th>\n",
       "    </tr>\n",
       "  </thead>\n",
       "  <tbody>\n",
       "    <tr>\n",
       "      <th>0</th>\n",
       "      <td>Bachelor's Degree</td>\n",
       "    </tr>\n",
       "    <tr>\n",
       "      <th>1</th>\n",
       "      <td>Master's Degree</td>\n",
       "    </tr>\n",
       "    <tr>\n",
       "      <th>2</th>\n",
       "      <td>High School</td>\n",
       "    </tr>\n",
       "    <tr>\n",
       "      <th>3</th>\n",
       "      <td>Ph.D.</td>\n",
       "    </tr>\n",
       "  </tbody>\n",
       "</table>\n",
       "</div>"
      ],
      "text/plain": [
       "     Education Level\n",
       "0  Bachelor's Degree\n",
       "1    Master's Degree\n",
       "2        High School\n",
       "3              Ph.D."
      ]
     },
     "execution_count": 40,
     "metadata": {},
     "output_type": "execute_result"
    }
   ],
   "source": [
    "df"
   ]
  },
  {
   "cell_type": "code",
   "execution_count": 34,
   "id": "f604979c-1c8b-454c-8ff9-c992a056b77c",
   "metadata": {},
   "outputs": [],
   "source": [
    "## Create a Instance of ordinalencorder and then fit_transform"
   ]
  },
  {
   "cell_type": "code",
   "execution_count": 42,
   "id": "cb1146a2-9833-40f3-9847-1ef31ed3da53",
   "metadata": {},
   "outputs": [],
   "source": [
    "encorder = OrdinalEncoder(categories=[[\"High School\", \"Bachelor's Degree\", \"Master's Degree\",\"Ph.D.\"]])"
   ]
  },
  {
   "cell_type": "code",
   "execution_count": 45,
   "id": "06fb7ee9-6f64-45af-b70a-bf34b9a2b54b",
   "metadata": {},
   "outputs": [
    {
     "data": {
      "text/plain": [
       "<4x4 sparse matrix of type '<class 'numpy.float64'>'\n",
       "\twith 4 stored elements in Compressed Sparse Row format>"
      ]
     },
     "execution_count": 45,
     "metadata": {},
     "output_type": "execute_result"
    }
   ],
   "source": [
    "encoder.fit_transform(df[['Education Level']])"
   ]
  },
  {
   "cell_type": "code",
   "execution_count": 47,
   "id": "a21c08c2-41f7-42a6-82f5-67661f2865e9",
   "metadata": {},
   "outputs": [
    {
     "name": "stderr",
     "output_type": "stream",
     "text": [
      "C:\\Users\\USER\\AppData\\Local\\Programs\\Python\\Python312\\Lib\\site-packages\\sklearn\\base.py:493: UserWarning: X does not have valid feature names, but OneHotEncoder was fitted with feature names\n",
      "  warnings.warn(\n"
     ]
    },
    {
     "data": {
      "text/plain": [
       "<1x4 sparse matrix of type '<class 'numpy.float64'>'\n",
       "\twith 1 stored elements in Compressed Sparse Row format>"
      ]
     },
     "execution_count": 47,
     "metadata": {},
     "output_type": "execute_result"
    }
   ],
   "source": [
    "encoder.transform([[\"Bachelor's Degree\"]])"
   ]
  },
  {
   "attachments": {},
   "cell_type": "markdown",
   "id": "d33cd042-fc4b-4ead-a184-338e3b880dfa",
   "metadata": {},
   "source": [
    "## Target Guided Ordinal Encoding\n",
    "\n"
   ]
  },
  {
   "cell_type": "markdown",
   "id": "2c44a0b4-db0b-4685-b647-595be8950a29",
   "metadata": {},
   "source": [
    "Target Guided Ordinal Encoding is a data preprocessing technique that assigns ordinal labels to categories within a categorical variable based on their impact or predictive power concerning the target variable. It is commonly used in supervised machine learning tasks to encode categorical variables efficiently.\n",
    "\n",
    "**How Target Guided Ordinal Encoding Works**\n",
    "\n",
    "**Target Guided Ordinal Encoding involves the following steps:**\n",
    "\n",
    "1. Calculate a statistical metric, such as the mean or median of the target variable, for each category within the categorical variable.\n",
    "\n",
    "2. Rank the categories based on the calculated metric in ascending or descending order, depending on whether higher values are associated with higher or lower target variable values.\n",
    "\n",
    "3. Assign ordinal labels to the categories based on their rankings. Categories with higher metric values receive lower ordinal labels, while categories with lower metric values receive higher ordinal labels.\n",
    "\n",
    "For example, if you have a categorical variable \"Education Level\" and a binary target variable \"Churn\" (0 or 1), you can calculate the mean \"Churn\" rate for each education level category and then rank them accordingly.\n",
    "\n",
    "**When to Use Target Guided Ordinal Encoding**\n",
    "\n",
    "Target Guided Ordinal Encoding is suitable for scenarios where:\n",
    "\n",
    "- You have categorical variables with a large number of categories.\n",
    "- You want to encode categories based on their predictive power or impact on the target variable.\n",
    "- You believe that the order of encoding should be determined by the relationship with the target variable."
   ]
  },
  {
   "cell_type": "code",
   "execution_count": 49,
   "id": "c208f683-a367-4a83-9583-694b369acc9f",
   "metadata": {},
   "outputs": [
    {
     "name": "stdout",
     "output_type": "stream",
     "text": [
      "     Education Level  Churn  Education Level Rank\n",
      "0  Bachelor's Degree      1                     3\n",
      "1    Master's Degree      0                     1\n",
      "2        High School      1                     3\n",
      "3              Ph.D.      0                     1\n"
     ]
    }
   ],
   "source": [
    "# Sample dataset with a categorical column \"Education Level\" and a binary target column \"Churn\"\n",
    "data = {'Education Level': ['Bachelor\\'s Degree', 'Master\\'s Degree', 'High School', 'Ph.D.'],\n",
    "        'Churn': [1, 0, 1, 0]}\n",
    "df = pd.DataFrame(data)\n",
    "\n",
    "# Calculate the mean churn rate for each education level\n",
    "education_mean_churn = df.groupby('Education Level')['Churn'].mean().reset_index()\n",
    "\n",
    "# Rank the categories based on the mean churn rate\n",
    "education_mean_churn['Education Level Rank'] = education_mean_churn['Churn'].rank().astype(int)\n",
    "\n",
    "# Map the ordinal labels back to the original dataset\n",
    "df = df.merge(education_mean_churn[['Education Level', 'Education Level Rank']], on='Education Level', how='left')\n",
    "\n",
    "print(df)"
   ]
  },
  {
   "cell_type": "code",
   "execution_count": 51,
   "id": "c105bf7b-bf7b-4139-9c61-d4c0c391965f",
   "metadata": {},
   "outputs": [],
   "source": [
    "data = {'city': ['New York', 'London', 'Paris', 'Tokyo','London','Tokyo'],\n",
    "        'price': [200,150,300,250,180,320]}\n",
    "df = pd.DataFrame(data)"
   ]
  },
  {
   "cell_type": "code",
   "execution_count": 52,
   "id": "dbf0d889-858e-4319-9654-2a4d55059878",
   "metadata": {},
   "outputs": [
    {
     "data": {
      "text/html": [
       "<div>\n",
       "<style scoped>\n",
       "    .dataframe tbody tr th:only-of-type {\n",
       "        vertical-align: middle;\n",
       "    }\n",
       "\n",
       "    .dataframe tbody tr th {\n",
       "        vertical-align: top;\n",
       "    }\n",
       "\n",
       "    .dataframe thead th {\n",
       "        text-align: right;\n",
       "    }\n",
       "</style>\n",
       "<table border=\"1\" class=\"dataframe\">\n",
       "  <thead>\n",
       "    <tr style=\"text-align: right;\">\n",
       "      <th></th>\n",
       "      <th>city</th>\n",
       "      <th>price</th>\n",
       "    </tr>\n",
       "  </thead>\n",
       "  <tbody>\n",
       "    <tr>\n",
       "      <th>0</th>\n",
       "      <td>New York</td>\n",
       "      <td>200</td>\n",
       "    </tr>\n",
       "    <tr>\n",
       "      <th>1</th>\n",
       "      <td>London</td>\n",
       "      <td>150</td>\n",
       "    </tr>\n",
       "    <tr>\n",
       "      <th>2</th>\n",
       "      <td>Paris</td>\n",
       "      <td>300</td>\n",
       "    </tr>\n",
       "    <tr>\n",
       "      <th>3</th>\n",
       "      <td>Tokyo</td>\n",
       "      <td>250</td>\n",
       "    </tr>\n",
       "    <tr>\n",
       "      <th>4</th>\n",
       "      <td>London</td>\n",
       "      <td>180</td>\n",
       "    </tr>\n",
       "    <tr>\n",
       "      <th>5</th>\n",
       "      <td>Tokyo</td>\n",
       "      <td>320</td>\n",
       "    </tr>\n",
       "  </tbody>\n",
       "</table>\n",
       "</div>"
      ],
      "text/plain": [
       "       city  price\n",
       "0  New York    200\n",
       "1    London    150\n",
       "2     Paris    300\n",
       "3     Tokyo    250\n",
       "4    London    180\n",
       "5     Tokyo    320"
      ]
     },
     "execution_count": 52,
     "metadata": {},
     "output_type": "execute_result"
    }
   ],
   "source": [
    "df"
   ]
  },
  {
   "cell_type": "code",
   "execution_count": 55,
   "id": "dad5149b-e058-493f-9ad0-129950831955",
   "metadata": {},
   "outputs": [],
   "source": [
    "mean_price = df.groupby('city')['price'].mean().to_dict()"
   ]
  },
  {
   "cell_type": "code",
   "execution_count": 56,
   "id": "b6474f50-b2a8-410c-be6f-f2398cfe082a",
   "metadata": {},
   "outputs": [
    {
     "data": {
      "text/plain": [
       "{'London': 165.0, 'New York': 200.0, 'Paris': 300.0, 'Tokyo': 285.0}"
      ]
     },
     "execution_count": 56,
     "metadata": {},
     "output_type": "execute_result"
    }
   ],
   "source": [
    "mean_price"
   ]
  },
  {
   "cell_type": "code",
   "execution_count": 58,
   "id": "2733b4d2-0f2a-474d-9dc5-963563e88a16",
   "metadata": {},
   "outputs": [],
   "source": [
    "df['city_encoded']=df['city'].map(mean_price)"
   ]
  },
  {
   "cell_type": "code",
   "execution_count": 59,
   "id": "e72b4708-903a-47ba-a916-c7b305129067",
   "metadata": {},
   "outputs": [
    {
     "data": {
      "text/plain": [
       "0    200.0\n",
       "1    165.0\n",
       "2    300.0\n",
       "3    285.0\n",
       "4    165.0\n",
       "5    285.0\n",
       "Name: city_encoded, dtype: float64"
      ]
     },
     "execution_count": 59,
     "metadata": {},
     "output_type": "execute_result"
    }
   ],
   "source": [
    "df['city_encoded']"
   ]
  },
  {
   "cell_type": "code",
   "execution_count": 61,
   "id": "a01b7305-d604-4fba-8eb2-47600a229d57",
   "metadata": {},
   "outputs": [
    {
     "data": {
      "text/html": [
       "<div>\n",
       "<style scoped>\n",
       "    .dataframe tbody tr th:only-of-type {\n",
       "        vertical-align: middle;\n",
       "    }\n",
       "\n",
       "    .dataframe tbody tr th {\n",
       "        vertical-align: top;\n",
       "    }\n",
       "\n",
       "    .dataframe thead th {\n",
       "        text-align: right;\n",
       "    }\n",
       "</style>\n",
       "<table border=\"1\" class=\"dataframe\">\n",
       "  <thead>\n",
       "    <tr style=\"text-align: right;\">\n",
       "      <th></th>\n",
       "      <th>price</th>\n",
       "      <th>city_encoded</th>\n",
       "    </tr>\n",
       "  </thead>\n",
       "  <tbody>\n",
       "    <tr>\n",
       "      <th>0</th>\n",
       "      <td>200</td>\n",
       "      <td>200.0</td>\n",
       "    </tr>\n",
       "    <tr>\n",
       "      <th>1</th>\n",
       "      <td>150</td>\n",
       "      <td>165.0</td>\n",
       "    </tr>\n",
       "    <tr>\n",
       "      <th>2</th>\n",
       "      <td>300</td>\n",
       "      <td>300.0</td>\n",
       "    </tr>\n",
       "    <tr>\n",
       "      <th>3</th>\n",
       "      <td>250</td>\n",
       "      <td>285.0</td>\n",
       "    </tr>\n",
       "    <tr>\n",
       "      <th>4</th>\n",
       "      <td>180</td>\n",
       "      <td>165.0</td>\n",
       "    </tr>\n",
       "    <tr>\n",
       "      <th>5</th>\n",
       "      <td>320</td>\n",
       "      <td>285.0</td>\n",
       "    </tr>\n",
       "  </tbody>\n",
       "</table>\n",
       "</div>"
      ],
      "text/plain": [
       "   price  city_encoded\n",
       "0    200         200.0\n",
       "1    150         165.0\n",
       "2    300         300.0\n",
       "3    250         285.0\n",
       "4    180         165.0\n",
       "5    320         285.0"
      ]
     },
     "execution_count": 61,
     "metadata": {},
     "output_type": "execute_result"
    }
   ],
   "source": [
    "df[['price','city_encoded']]"
   ]
  },
  {
   "cell_type": "code",
   "execution_count": null,
   "id": "c2971349-936d-47d4-aec8-edd21a236464",
   "metadata": {},
   "outputs": [],
   "source": []
  }
 ],
 "metadata": {
  "kernelspec": {
   "display_name": "Python 3 (ipykernel)",
   "language": "python",
   "name": "python3"
  },
  "language_info": {
   "codemirror_mode": {
    "name": "ipython",
    "version": 3
   },
   "file_extension": ".py",
   "mimetype": "text/x-python",
   "name": "python",
   "nbconvert_exporter": "python",
   "pygments_lexer": "ipython3",
   "version": "3.12.1"
  }
 },
 "nbformat": 4,
 "nbformat_minor": 5
}
